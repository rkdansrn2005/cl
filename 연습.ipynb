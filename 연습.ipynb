{
 "cells": [
  {
   "cell_type": "code",
   "execution_count": 2,
   "metadata": {},
   "outputs": [
    {
     "data": {
      "text/plain": [
       "27.0"
      ]
     },
     "execution_count": 2,
     "metadata": {},
     "output_type": "execute_result"
    }
   ],
   "source": [
    "import math\n",
    "num = math.pow(3,3)\n",
    "num"
   ]
  },
  {
   "cell_type": "code",
   "execution_count": 3,
   "metadata": {
    "scrolled": true
   },
   "outputs": [
    {
     "data": {
      "text/plain": [
       "120"
      ]
     },
     "execution_count": 3,
     "metadata": {},
     "output_type": "execute_result"
    }
   ],
   "source": [
    "math.factorial(5)"
   ]
  },
  {
   "cell_type": "code",
   "execution_count": 29,
   "metadata": {},
   "outputs": [],
   "source": [
    "def abc(a):\n",
    "    x=1\n",
    "    for b in range(1,a+1):\n",
    "        x=b*x\n",
    "    return x\n",
    "def abc_1(a):\n",
    "    x= a\n",
    "    if x==1:\n",
    "        return x\n",
    "    else:\n",
    "        return x*abc_1(x-1)"
   ]
  },
  {
   "cell_type": "code",
   "execution_count": 31,
   "metadata": {},
   "outputs": [],
   "source": [
    "from math import sqrt, factorial"
   ]
  },
  {
   "cell_type": "code",
   "execution_count": 35,
   "metadata": {
    "scrolled": true
   },
   "outputs": [
    {
     "name": "stdout",
     "output_type": "stream",
     "text": [
      "Collecting google-api-python-client\n",
      "  Using cached google_api_python_client-1.12.8-py2.py3-none-any.whl (61 kB)\n",
      "Collecting google-api-core<2dev,>=1.21.0\n",
      "  Using cached google_api_core-1.23.0-py2.py3-none-any.whl (91 kB)\n",
      "Requirement already satisfied, skipping upgrade: google-auth>=1.16.0 in c:\\users\\administrator\\anaconda3\\lib\\site-packages (from google-api-python-client) (1.17.2)\n",
      "Requirement already satisfied, skipping upgrade: six<2dev,>=1.13.0 in c:\\users\\administrator\\anaconda3\\lib\\site-packages (from google-api-python-client) (1.15.0)\n",
      "Collecting google-auth-httplib2>=0.0.3\n",
      "  Using cached google_auth_httplib2-0.0.4-py2.py3-none-any.whl (9.1 kB)\n",
      "Collecting httplib2<1dev,>=0.15.0\n",
      "  Using cached httplib2-0.18.1-py3-none-any.whl (95 kB)\n",
      "Collecting uritemplate<4dev,>=3.0.0\n",
      "  Using cached uritemplate-3.0.1-py2.py3-none-any.whl (15 kB)\n",
      "Requirement already satisfied, skipping upgrade: requests<3.0.0dev,>=2.18.0 in c:\\users\\administrator\\anaconda3\\lib\\site-packages (from google-api-core<2dev,>=1.21.0->google-api-python-client) (2.24.0)\n",
      "Requirement already satisfied, skipping upgrade: protobuf>=3.12.0 in c:\\users\\administrator\\anaconda3\\lib\\site-packages (from google-api-core<2dev,>=1.21.0->google-api-python-client) (3.13.0)\n",
      "Requirement already satisfied, skipping upgrade: pytz in c:\\users\\administrator\\anaconda3\\lib\\site-packages (from google-api-core<2dev,>=1.21.0->google-api-python-client) (2020.1)\n",
      "Collecting googleapis-common-protos<2.0dev,>=1.6.0\n",
      "  Using cached googleapis_common_protos-1.52.0-py2.py3-none-any.whl (100 kB)\n"
     ]
    },
    {
     "name": "stderr",
     "output_type": "stream",
     "text": [
      "ERROR: After October 2020 you may experience errors when installing or updating packages. This is because pip will change the way that it resolves dependency conflicts.\n",
      "\n",
      "We recommend you use --use-feature=2020-resolver to test your packages with the new resolver before it becomes the default.\n",
      "\n",
      "google-api-core 1.23.0 requires google-auth<2.0dev,>=1.21.1, but you'll have google-auth 1.17.2 which is incompatible.\n"
     ]
    },
    {
     "name": "stdout",
     "output_type": "stream",
     "text": [
      "Requirement already satisfied, skipping upgrade: setuptools>=34.0.0 in c:\\users\\administrator\\anaconda3\\lib\\site-packages (from google-api-core<2dev,>=1.21.0->google-api-python-client) (50.3.0.post20201006)\n",
      "Requirement already satisfied, skipping upgrade: rsa<5,>=3.1.4; python_version >= \"3\" in c:\\users\\administrator\\anaconda3\\lib\\site-packages (from google-auth>=1.16.0->google-api-python-client) (4.6)\n",
      "Requirement already satisfied, skipping upgrade: cachetools<5.0,>=2.0.0 in c:\\users\\administrator\\anaconda3\\lib\\site-packages (from google-auth>=1.16.0->google-api-python-client) (4.1.0)\n",
      "Requirement already satisfied, skipping upgrade: pyasn1-modules>=0.2.1 in c:\\users\\administrator\\anaconda3\\lib\\site-packages (from google-auth>=1.16.0->google-api-python-client) (0.2.8)\n",
      "Requirement already satisfied, skipping upgrade: idna<3,>=2.5 in c:\\users\\administrator\\anaconda3\\lib\\site-packages (from requests<3.0.0dev,>=2.18.0->google-api-core<2dev,>=1.21.0->google-api-python-client) (2.10)\n",
      "Requirement already satisfied, skipping upgrade: urllib3!=1.25.0,!=1.25.1,<1.26,>=1.21.1 in c:\\users\\administrator\\anaconda3\\lib\\site-packages (from requests<3.0.0dev,>=2.18.0->google-api-core<2dev,>=1.21.0->google-api-python-client) (1.25.11)\n",
      "Requirement already satisfied, skipping upgrade: chardet<4,>=3.0.2 in c:\\users\\administrator\\anaconda3\\lib\\site-packages (from requests<3.0.0dev,>=2.18.0->google-api-core<2dev,>=1.21.0->google-api-python-client) (3.0.4)\n",
      "Requirement already satisfied, skipping upgrade: certifi>=2017.4.17 in c:\\users\\administrator\\anaconda3\\lib\\site-packages (from requests<3.0.0dev,>=2.18.0->google-api-core<2dev,>=1.21.0->google-api-python-client) (2020.11.8)\n",
      "Requirement already satisfied, skipping upgrade: pyasn1>=0.1.3 in c:\\users\\administrator\\anaconda3\\lib\\site-packages (from rsa<5,>=3.1.4; python_version >= \"3\"->google-auth>=1.16.0->google-api-python-client) (0.4.8)\n",
      "Installing collected packages: googleapis-common-protos, google-api-core, httplib2, google-auth-httplib2, uritemplate, google-api-python-client\n",
      "Successfully installed google-api-core-1.23.0 google-api-python-client-1.12.8 google-auth-httplib2-0.0.4 googleapis-common-protos-1.52.0 httplib2-0.18.1 uritemplate-3.0.1\n"
     ]
    }
   ],
   "source": [
    "!pip install --upgrade google-api-python-client\n",
    "!pip install googletrans"
   ]
  },
  {
   "cell_type": "code",
   "execution_count": null,
   "metadata": {},
   "outputs": [],
   "source": [
    "######################################"
   ]
  },
  {
   "cell_type": "code",
   "execution_count": 6,
   "metadata": {
    "scrolled": false
   },
   "outputs": [],
   "source": [
    "from googletrans import Translator\n",
    "translator = Translator(service_urls=['translate.googleapis.com'])\n",
    "\n",
    "word = translator.translate(\"안녕하세요\",dest='en',src='ko')"
   ]
  },
  {
   "cell_type": "code",
   "execution_count": 36,
   "metadata": {},
   "outputs": [],
   "source": [
    "import pymongo\n",
    "connection =pymongo.MongoClient('mongodb://localhost',27017)"
   ]
  },
  {
   "cell_type": "code",
   "execution_count": 37,
   "metadata": {},
   "outputs": [
    {
     "data": {
      "text/plain": [
       "MongoClient(host=['localhost:27017'], document_class=dict, tz_aware=False, connect=True)"
      ]
     },
     "execution_count": 37,
     "metadata": {},
     "output_type": "execute_result"
    }
   ],
   "source": [
    "connection"
   ]
  },
  {
   "cell_type": "code",
   "execution_count": 38,
   "metadata": {},
   "outputs": [],
   "source": [
    "knowledge= connection.knowledge"
   ]
  },
  {
   "cell_type": "code",
   "execution_count": 31,
   "metadata": {},
   "outputs": [
    {
     "data": {
      "text/plain": [
       "'knowledge'"
      ]
     },
     "execution_count": 31,
     "metadata": {},
     "output_type": "execute_result"
    }
   ],
   "source": [
    "knowledge.name"
   ]
  },
  {
   "cell_type": "code",
   "execution_count": 39,
   "metadata": {},
   "outputs": [],
   "source": [
    "knowledge_it= knowledge.it"
   ]
  },
  {
   "cell_type": "code",
   "execution_count": 40,
   "metadata": {
    "scrolled": true
   },
   "outputs": [
    {
     "data": {
      "text/plain": [
       "Collection(Database(MongoClient(host=['localhost:27017'], document_class=dict, tz_aware=False, connect=True), 'knowledge'), 'it')"
      ]
     },
     "execution_count": 40,
     "metadata": {},
     "output_type": "execute_result"
    }
   ],
   "source": [
    "knowledge_it"
   ]
  },
  {
   "cell_type": "code",
   "execution_count": 41,
   "metadata": {},
   "outputs": [],
   "source": [
    "post = {\"author\": \"Mike\", \"text\": \"My first blog post!\", \"tags\": [\"mongodb\", \"python\", \"pymongo\"] }"
   ]
  },
  {
   "cell_type": "code",
   "execution_count": 42,
   "metadata": {},
   "outputs": [
    {
     "data": {
      "text/plain": [
       "<pymongo.results.InsertOneResult at 0xa158208>"
      ]
     },
     "execution_count": 42,
     "metadata": {},
     "output_type": "execute_result"
    }
   ],
   "source": [
    "knowledge_it.insert_one(post)"
   ]
  },
  {
   "cell_type": "code",
   "execution_count": 45,
   "metadata": {
    "scrolled": true
   },
   "outputs": [
    {
     "data": {
      "text/plain": [
       "<pymongo.results.InsertOneResult at 0xa184988>"
      ]
     },
     "execution_count": 45,
     "metadata": {},
     "output_type": "execute_result"
    }
   ],
   "source": [
    "knowledge_it.insert_one( { \"author\":\"stave Lees\", \"age\":35 } )"
   ]
  },
  {
   "cell_type": "code",
   "execution_count": 44,
   "metadata": {},
   "outputs": [
    {
     "data": {
      "text/plain": [
       "<pymongo.results.InsertManyResult at 0x891a1c8>"
      ]
     },
     "execution_count": 44,
     "metadata": {},
     "output_type": "execute_result"
    }
   ],
   "source": [
    "knowledge_it.insert_many(\n",
    "    [\n",
    "        { \"author\":\"Dave Ahn\", \"age\":25 },\n",
    "        { \"author\":\"Dave\", \"age\":35 }\n",
    "    ]\n",
    ")"
   ]
  },
  {
   "cell_type": "code",
   "execution_count": 46,
   "metadata": {},
   "outputs": [],
   "source": [
    "post = {\"author\": \"Mike\", \"text\": \"My first blog post!\" }"
   ]
  },
  {
   "cell_type": "code",
   "execution_count": 47,
   "metadata": {},
   "outputs": [],
   "source": [
    "post_id = knowledge_it.insert_one(post)"
   ]
  },
  {
   "cell_type": "code",
   "execution_count": 48,
   "metadata": {},
   "outputs": [
    {
     "data": {
      "text/plain": [
       "<pymongo.results.InsertOneResult at 0xa0f1a88>"
      ]
     },
     "execution_count": 48,
     "metadata": {},
     "output_type": "execute_result"
    }
   ],
   "source": [
    "post_id"
   ]
  },
  {
   "cell_type": "code",
   "execution_count": 49,
   "metadata": {},
   "outputs": [
    {
     "data": {
      "text/plain": [
       "ObjectId('5fcdbeb8837c1ec7786da5ac')"
      ]
     },
     "execution_count": 49,
     "metadata": {},
     "output_type": "execute_result"
    }
   ],
   "source": [
    "post_id.inserted_id"
   ]
  },
  {
   "cell_type": "code",
   "execution_count": 57,
   "metadata": {},
   "outputs": [
    {
     "data": {
      "text/plain": [
       "6"
      ]
     },
     "execution_count": 57,
     "metadata": {},
     "output_type": "execute_result"
    }
   ],
   "source": [
    "knowledge_it.estimated_document_count()\n",
    "knowledge_it.count_documents({})\n",
    "# count()는 최신 버전에서 권고하지 않는다."
   ]
  },
  {
   "cell_type": "code",
   "execution_count": 58,
   "metadata": {},
   "outputs": [
    {
     "data": {
      "text/plain": [
       "<pymongo.results.InsertOneResult at 0xa349ac8>"
      ]
     },
     "execution_count": 58,
     "metadata": {},
     "output_type": "execute_result"
    }
   ],
   "source": [
    "# 리스트, 객체 삽입 가능\n",
    "knowledge_it.insert_one({'title' : '암살', 'castings' : ['이정재', '전지현', '하정우']})\n",
    "knowledge_it.insert_one(\n",
    "    {\n",
    "        'title' : '실미도', \n",
    "        'castings' : ['설경구', '안성기'], \n",
    "        'datetime' : \n",
    "        {\n",
    "            'year' : '2003', \n",
    "            'month' : 3,\n",
    "            'val' : \n",
    "            {\n",
    "                'a' :\n",
    "                {\n",
    "                    'b' : 1\n",
    "                }\n",
    "            }\n",
    "        }\n",
    "    }\n",
    ")"
   ]
  },
  {
   "cell_type": "code",
   "execution_count": null,
   "metadata": {},
   "outputs": [],
   "source": [
    "result = knowledge_it.insert_many([{'number':i} for i in range(10)])"
   ]
  },
  {
   "cell_type": "code",
   "execution_count": 59,
   "metadata": {},
   "outputs": [
    {
     "data": {
      "text/plain": [
       "<pymongo.results.InsertManyResult at 0x9ef30c8>"
      ]
     },
     "execution_count": 59,
     "metadata": {},
     "output_type": "execute_result"
    }
   ],
   "source": [
    "data = list()\n",
    "data.append({'name' : 'aaron', 'age' : 20})\n",
    "data.append({'name' : 'bob', 'age' : 30})\n",
    "data.append({'name' : 'cathy', 'age' : 25})\n",
    "data.append({'name' : 'david', 'age' : 27})\n",
    "data.append({'name' : 'erick', 'age' : 28})\n",
    "data.append({'name' : 'fox', 'age' : 32})\n",
    "data.append({'name' : 'hmm'})\n",
    "\n",
    "knowledge_it.insert_many(data)"
   ]
  },
  {
   "cell_type": "code",
   "execution_count": 60,
   "metadata": {},
   "outputs": [
    {
     "data": {
      "text/plain": [
       "{'_id': ObjectId('5fcdb577837c1ec7786da5a7'),\n",
       " 'author': 'Mike',\n",
       " 'text': 'My first blog post!',\n",
       " 'tags': ['mongodb', 'python', 'pymongo']}"
      ]
     },
     "execution_count": 60,
     "metadata": {},
     "output_type": "execute_result"
    }
   ],
   "source": [
    "knowledge_it.find_one()"
   ]
  },
  {
   "cell_type": "code",
   "execution_count": 68,
   "metadata": {},
   "outputs": [
    {
     "data": {
      "text/plain": [
       "35"
      ]
     },
     "execution_count": 68,
     "metadata": {},
     "output_type": "execute_result"
    }
   ],
   "source": [
    "dave = knowledge_it.find_one({'author':\"Dave\"})\n",
    "dave['age']"
   ]
  },
  {
   "cell_type": "code",
   "execution_count": 69,
   "metadata": {},
   "outputs": [],
   "source": [
    "docs = knowledge_it.find()"
   ]
  },
  {
   "cell_type": "code",
   "execution_count": 71,
   "metadata": {},
   "outputs": [
    {
     "name": "stdout",
     "output_type": "stream",
     "text": [
      "{'_id': ObjectId('5fcdb577837c1ec7786da5a7'), 'author': 'Mike', 'text': 'My first blog post!', 'tags': ['mongodb', 'python', 'pymongo']}\n",
      "{'_id': ObjectId('5fcdb581837c1ec7786da5a8'), 'author': 'Dave Lee', 'age': 45}\n",
      "{'_id': ObjectId('5fcdb5a7837c1ec7786da5a9'), 'author': 'Dave Ahn', 'age': 25}\n",
      "{'_id': ObjectId('5fcdb5a7837c1ec7786da5aa'), 'author': 'Dave', 'age': 35}\n",
      "{'_id': ObjectId('5fcdb7f9837c1ec7786da5ab'), 'author': 'stave Lees', 'age': 35}\n",
      "{'_id': ObjectId('5fcdbeb8837c1ec7786da5ac'), 'author': 'Mike', 'text': 'My first blog post!'}\n",
      "{'_id': ObjectId('5fcdc0ab837c1ec7786da5ad'), 'title': '암살', 'castings': ['이정재', '전지현', '하정우']}\n",
      "{'_id': ObjectId('5fcdc0ab837c1ec7786da5ae'), 'title': '실미도', 'castings': ['설경구', '안성기'], 'datetime': {'year': '2003', 'month': 3, 'val': {'a': {'b': 1}}}}\n",
      "{'_id': ObjectId('5fcdc5a3837c1ec7786da5af'), 'name': 'aaron', 'age': 20}\n",
      "{'_id': ObjectId('5fcdc5a3837c1ec7786da5b0'), 'name': 'bob', 'age': 30}\n",
      "{'_id': ObjectId('5fcdc5a3837c1ec7786da5b1'), 'name': 'cathy', 'age': 25}\n",
      "{'_id': ObjectId('5fcdc5a3837c1ec7786da5b2'), 'name': 'david', 'age': 27}\n",
      "{'_id': ObjectId('5fcdc5a3837c1ec7786da5b3'), 'name': 'erick', 'age': 28}\n",
      "{'_id': ObjectId('5fcdc5a3837c1ec7786da5b4'), 'name': 'fox', 'age': 32}\n",
      "{'_id': ObjectId('5fcdc5a3837c1ec7786da5b5'), 'name': 'hmm'}\n"
     ]
    }
   ],
   "source": [
    "for doc in docs:\n",
    "    print(doc)"
   ]
  },
  {
   "cell_type": "code",
   "execution_count": 79,
   "metadata": {},
   "outputs": [
    {
     "name": "stdout",
     "output_type": "stream",
     "text": [
      "{'_id': ObjectId('5fcdb5a7837c1ec7786da5aa'), 'author': 'Dave', 'age': 35}\n"
     ]
    }
   ],
   "source": [
    "docs = knowledge_it.find( {\"author\":\"Dave\"} )\n",
    "for doc in docs:\n",
    "    print(doc)"
   ]
  },
  {
   "cell_type": "code",
   "execution_count": 80,
   "metadata": {},
   "outputs": [
    {
     "data": {
      "text/plain": [
       "1"
      ]
     },
     "execution_count": 80,
     "metadata": {},
     "output_type": "execute_result"
    }
   ],
   "source": [
    "knowledge_it.count_documents({\"author\":\"Dave\"})"
   ]
  },
  {
   "cell_type": "code",
   "execution_count": 112,
   "metadata": {},
   "outputs": [
    {
     "name": "stdout",
     "output_type": "stream",
     "text": [
      "{'_id': ObjectId('5fcdbeb8837c1ec7786da5ac'), 'author': 'Mike', 'text': 'My first blog post!'}\n",
      "{'_id': ObjectId('5fcdc0ab837c1ec7786da5ad'), 'title': '암살', 'castings': ['이정재', '전지현', '하정우']}\n",
      "{'_id': ObjectId('5fcdc0ab837c1ec7786da5ae'), 'title': '실미도', 'castings': ['설경구', '안성기'], 'datetime': {'year': '2003', 'month': 3, 'val': {'a': {'b': 1}}}}\n",
      "{'_id': ObjectId('5fcdc5a3837c1ec7786da5b5'), 'name': 'hmm'}\n",
      "{'_id': ObjectId('5fcdc5a3837c1ec7786da5af'), 'name': 'aaron', 'age': 20}\n",
      "{'_id': ObjectId('5fcdb5a7837c1ec7786da5a9'), 'author': 'Dave Ahn', 'age': 25}\n",
      "{'_id': ObjectId('5fcdc5a3837c1ec7786da5b1'), 'name': 'cathy', 'age': 25}\n",
      "{'_id': ObjectId('5fcdc5a3837c1ec7786da5b2'), 'name': 'david', 'age': 27}\n",
      "{'_id': ObjectId('5fcdc5a3837c1ec7786da5b3'), 'name': 'erick', 'age': 28}\n",
      "{'_id': ObjectId('5fcdc5a3837c1ec7786da5b0'), 'name': 'bob', 'age': 30}\n",
      "{'_id': ObjectId('5fcdb5a7837c1ec7786da5aa'), 'author': 'Dave', 'age': 35, 'text': 'specialize'}\n",
      "{'_id': ObjectId('5fcdb7f9837c1ec7786da5ab'), 'author': 'stave Lees', 'age': 35}\n",
      "{'_id': ObjectId('5fcdb577837c1ec7786da5a7'), 'author': 'Mike', 'text': 'specialize1 pose', 'tags': ['mongodb', 'python', 'pymongo'], 'age': 40}\n",
      "{'_id': ObjectId('5fcdb581837c1ec7786da5a8'), 'author': 'Dave Lee', 'age': 45}\n"
     ]
    }
   ],
   "source": [
    "for post in knowledge_it.find().sort('age'):\n",
    "    print(post)"
   ]
  },
  {
   "cell_type": "code",
   "execution_count": 107,
   "metadata": {},
   "outputs": [
    {
     "name": "stdout",
     "output_type": "stream",
     "text": [
      "{'_id': ObjectId('5fcdb577837c1ec7786da5a7'), 'author': 'Mike', 'text': 'specialize1 pose', 'tags': ['mongodb', 'python', 'pymongo'], 'age': 40}\n"
     ]
    }
   ],
   "source": [
    "for i in knowledge_it.find({\"author\":\"Mike\",'age':40}):\n",
    "    print(i)"
   ]
  },
  {
   "cell_type": "code",
   "execution_count": 110,
   "metadata": {},
   "outputs": [
    {
     "name": "stdout",
     "output_type": "stream",
     "text": [
      "{'_id': ObjectId('5fcdc5a3837c1ec7786da5b4'), 'name': 'fox', 'age': 32}\n"
     ]
    }
   ],
   "source": [
    "for i in knowledge_it.find({\"name\":{\"$regex\":\"^f\"}}):\n",
    "    print(i)"
   ]
  },
  {
   "cell_type": "code",
   "execution_count": 98,
   "metadata": {},
   "outputs": [
    {
     "data": {
      "text/plain": [
       "<pymongo.results.UpdateResult at 0xdbcc288>"
      ]
     },
     "execution_count": 98,
     "metadata": {},
     "output_type": "execute_result"
    }
   ],
   "source": [
    "knowledge_it.update_one({\"author\":\"Mike\"},\n",
    "                       {\"$set\":{\"age\":40}}\n",
    "                       )"
   ]
  },
  {
   "cell_type": "code",
   "execution_count": 94,
   "metadata": {},
   "outputs": [
    {
     "data": {
      "text/plain": [
       "<pymongo.results.UpdateResult at 0x9cb6588>"
      ]
     },
     "execution_count": 94,
     "metadata": {},
     "output_type": "execute_result"
    }
   ],
   "source": [
    "knowledge_it.update_one({\"author\":\"/Mike/\"},\n",
    "                       {\"$set\":{\"text\":\"specialize pose\"}}\n",
    "                       )"
   ]
  },
  {
   "cell_type": "code",
   "execution_count": 111,
   "metadata": {
    "scrolled": true
   },
   "outputs": [
    {
     "data": {
      "text/plain": [
       "<pymongo.results.DeleteResult at 0xdb54b08>"
      ]
     },
     "execution_count": 111,
     "metadata": {},
     "output_type": "execute_result"
    }
   ],
   "source": [
    "knowledge_it.delete_many({\"name\":\"fox\"})"
   ]
  },
  {
   "cell_type": "code",
   "execution_count": 113,
   "metadata": {},
   "outputs": [
    {
     "data": {
      "text/plain": [
       "<pymongo.results.InsertManyResult at 0xdbf8e48>"
      ]
     },
     "execution_count": 113,
     "metadata": {},
     "output_type": "execute_result"
    }
   ],
   "source": [
    "knowledge_it.insert_many([\n",
    "    {'number':7,\"speed\":80},\n",
    "     {'number':9,\"speed\":90},\n",
    "    {'number':8,\"speed\":100}                        \n",
    "                         ])"
   ]
  },
  {
   "cell_type": "code",
   "execution_count": 115,
   "metadata": {},
   "outputs": [],
   "source": [
    "import pymongo\n",
    "conn = pymongo.MongoClient()\n",
    "books = conn.books\n",
    "it_book = books.it_book\n",
    "data = list()\n",
    "for index in range(100):\n",
    "    data.append({\"auther\":\"Dave Lee\",\"publisher\":\"fun-coding\",'number':index})"
   ]
  },
  {
   "cell_type": "code",
   "execution_count": 117,
   "metadata": {
    "scrolled": true
   },
   "outputs": [
    {
     "data": {
      "text/plain": [
       "<pymongo.results.InsertManyResult at 0xd12e188>"
      ]
     },
     "execution_count": 117,
     "metadata": {},
     "output_type": "execute_result"
    }
   ],
   "source": [
    "it_book.insert_many(data)"
   ]
  },
  {
   "cell_type": "code",
   "execution_count": 118,
   "metadata": {},
   "outputs": [
    {
     "name": "stdout",
     "output_type": "stream",
     "text": [
      "{'_id': ObjectId('5fcde69b837c1ec7786da5ba'), 'auther': 'Dave Lee', 'publisher': 'fun-coding', 'number': 0}\n",
      "{'_id': ObjectId('5fcde69b837c1ec7786da5bb'), 'auther': 'Dave Lee', 'publisher': 'fun-coding', 'number': 1}\n",
      "{'_id': ObjectId('5fcde69b837c1ec7786da5bc'), 'auther': 'Dave Lee', 'publisher': 'fun-coding', 'number': 2}\n",
      "{'_id': ObjectId('5fcde69b837c1ec7786da5bd'), 'auther': 'Dave Lee', 'publisher': 'fun-coding', 'number': 3}\n",
      "{'_id': ObjectId('5fcde69b837c1ec7786da5be'), 'auther': 'Dave Lee', 'publisher': 'fun-coding', 'number': 4}\n",
      "{'_id': ObjectId('5fcde69b837c1ec7786da5bf'), 'auther': 'Dave Lee', 'publisher': 'fun-coding', 'number': 5}\n",
      "{'_id': ObjectId('5fcde69b837c1ec7786da5c0'), 'auther': 'Dave Lee', 'publisher': 'fun-coding', 'number': 6}\n",
      "{'_id': ObjectId('5fcde69b837c1ec7786da5c1'), 'auther': 'Dave Lee', 'publisher': 'fun-coding', 'number': 7}\n",
      "{'_id': ObjectId('5fcde69b837c1ec7786da5c2'), 'auther': 'Dave Lee', 'publisher': 'fun-coding', 'number': 8}\n",
      "{'_id': ObjectId('5fcde69b837c1ec7786da5c3'), 'auther': 'Dave Lee', 'publisher': 'fun-coding', 'number': 9}\n",
      "{'_id': ObjectId('5fcde69b837c1ec7786da5c4'), 'auther': 'Dave Lee', 'publisher': 'fun-coding', 'number': 10}\n",
      "{'_id': ObjectId('5fcde69b837c1ec7786da5c5'), 'auther': 'Dave Lee', 'publisher': 'fun-coding', 'number': 11}\n",
      "{'_id': ObjectId('5fcde69b837c1ec7786da5c6'), 'auther': 'Dave Lee', 'publisher': 'fun-coding', 'number': 12}\n",
      "{'_id': ObjectId('5fcde69b837c1ec7786da5c7'), 'auther': 'Dave Lee', 'publisher': 'fun-coding', 'number': 13}\n",
      "{'_id': ObjectId('5fcde69b837c1ec7786da5c8'), 'auther': 'Dave Lee', 'publisher': 'fun-coding', 'number': 14}\n",
      "{'_id': ObjectId('5fcde69b837c1ec7786da5c9'), 'auther': 'Dave Lee', 'publisher': 'fun-coding', 'number': 15}\n",
      "{'_id': ObjectId('5fcde69b837c1ec7786da5ca'), 'auther': 'Dave Lee', 'publisher': 'fun-coding', 'number': 16}\n",
      "{'_id': ObjectId('5fcde69b837c1ec7786da5cb'), 'auther': 'Dave Lee', 'publisher': 'fun-coding', 'number': 17}\n",
      "{'_id': ObjectId('5fcde69b837c1ec7786da5cc'), 'auther': 'Dave Lee', 'publisher': 'fun-coding', 'number': 18}\n",
      "{'_id': ObjectId('5fcde69b837c1ec7786da5cd'), 'auther': 'Dave Lee', 'publisher': 'fun-coding', 'number': 19}\n",
      "{'_id': ObjectId('5fcde69b837c1ec7786da5ce'), 'auther': 'Dave Lee', 'publisher': 'fun-coding', 'number': 20}\n",
      "{'_id': ObjectId('5fcde69b837c1ec7786da5cf'), 'auther': 'Dave Lee', 'publisher': 'fun-coding', 'number': 21}\n",
      "{'_id': ObjectId('5fcde69b837c1ec7786da5d0'), 'auther': 'Dave Lee', 'publisher': 'fun-coding', 'number': 22}\n",
      "{'_id': ObjectId('5fcde69b837c1ec7786da5d1'), 'auther': 'Dave Lee', 'publisher': 'fun-coding', 'number': 23}\n",
      "{'_id': ObjectId('5fcde69b837c1ec7786da5d2'), 'auther': 'Dave Lee', 'publisher': 'fun-coding', 'number': 24}\n",
      "{'_id': ObjectId('5fcde69b837c1ec7786da5d3'), 'auther': 'Dave Lee', 'publisher': 'fun-coding', 'number': 25}\n",
      "{'_id': ObjectId('5fcde69b837c1ec7786da5d4'), 'auther': 'Dave Lee', 'publisher': 'fun-coding', 'number': 26}\n",
      "{'_id': ObjectId('5fcde69b837c1ec7786da5d5'), 'auther': 'Dave Lee', 'publisher': 'fun-coding', 'number': 27}\n",
      "{'_id': ObjectId('5fcde69b837c1ec7786da5d6'), 'auther': 'Dave Lee', 'publisher': 'fun-coding', 'number': 28}\n",
      "{'_id': ObjectId('5fcde69b837c1ec7786da5d7'), 'auther': 'Dave Lee', 'publisher': 'fun-coding', 'number': 29}\n",
      "{'_id': ObjectId('5fcde69b837c1ec7786da5d8'), 'auther': 'Dave Lee', 'publisher': 'fun-coding', 'number': 30}\n",
      "{'_id': ObjectId('5fcde69b837c1ec7786da5d9'), 'auther': 'Dave Lee', 'publisher': 'fun-coding', 'number': 31}\n",
      "{'_id': ObjectId('5fcde69b837c1ec7786da5da'), 'auther': 'Dave Lee', 'publisher': 'fun-coding', 'number': 32}\n",
      "{'_id': ObjectId('5fcde69b837c1ec7786da5db'), 'auther': 'Dave Lee', 'publisher': 'fun-coding', 'number': 33}\n",
      "{'_id': ObjectId('5fcde69b837c1ec7786da5dc'), 'auther': 'Dave Lee', 'publisher': 'fun-coding', 'number': 34}\n",
      "{'_id': ObjectId('5fcde69b837c1ec7786da5dd'), 'auther': 'Dave Lee', 'publisher': 'fun-coding', 'number': 35}\n",
      "{'_id': ObjectId('5fcde69b837c1ec7786da5de'), 'auther': 'Dave Lee', 'publisher': 'fun-coding', 'number': 36}\n",
      "{'_id': ObjectId('5fcde69b837c1ec7786da5df'), 'auther': 'Dave Lee', 'publisher': 'fun-coding', 'number': 37}\n",
      "{'_id': ObjectId('5fcde69b837c1ec7786da5e0'), 'auther': 'Dave Lee', 'publisher': 'fun-coding', 'number': 38}\n",
      "{'_id': ObjectId('5fcde69b837c1ec7786da5e1'), 'auther': 'Dave Lee', 'publisher': 'fun-coding', 'number': 39}\n",
      "{'_id': ObjectId('5fcde69b837c1ec7786da5e2'), 'auther': 'Dave Lee', 'publisher': 'fun-coding', 'number': 40}\n",
      "{'_id': ObjectId('5fcde69b837c1ec7786da5e3'), 'auther': 'Dave Lee', 'publisher': 'fun-coding', 'number': 41}\n",
      "{'_id': ObjectId('5fcde69b837c1ec7786da5e4'), 'auther': 'Dave Lee', 'publisher': 'fun-coding', 'number': 42}\n",
      "{'_id': ObjectId('5fcde69b837c1ec7786da5e5'), 'auther': 'Dave Lee', 'publisher': 'fun-coding', 'number': 43}\n",
      "{'_id': ObjectId('5fcde69b837c1ec7786da5e6'), 'auther': 'Dave Lee', 'publisher': 'fun-coding', 'number': 44}\n",
      "{'_id': ObjectId('5fcde69b837c1ec7786da5e7'), 'auther': 'Dave Lee', 'publisher': 'fun-coding', 'number': 45}\n",
      "{'_id': ObjectId('5fcde69b837c1ec7786da5e8'), 'auther': 'Dave Lee', 'publisher': 'fun-coding', 'number': 46}\n",
      "{'_id': ObjectId('5fcde69b837c1ec7786da5e9'), 'auther': 'Dave Lee', 'publisher': 'fun-coding', 'number': 47}\n",
      "{'_id': ObjectId('5fcde69b837c1ec7786da5ea'), 'auther': 'Dave Lee', 'publisher': 'fun-coding', 'number': 48}\n",
      "{'_id': ObjectId('5fcde69b837c1ec7786da5eb'), 'auther': 'Dave Lee', 'publisher': 'fun-coding', 'number': 49}\n",
      "{'_id': ObjectId('5fcde69b837c1ec7786da5ec'), 'auther': 'Dave Lee', 'publisher': 'fun-coding', 'number': 50}\n",
      "{'_id': ObjectId('5fcde69b837c1ec7786da5ed'), 'auther': 'Dave Lee', 'publisher': 'fun-coding', 'number': 51}\n",
      "{'_id': ObjectId('5fcde69b837c1ec7786da5ee'), 'auther': 'Dave Lee', 'publisher': 'fun-coding', 'number': 52}\n",
      "{'_id': ObjectId('5fcde69b837c1ec7786da5ef'), 'auther': 'Dave Lee', 'publisher': 'fun-coding', 'number': 53}\n",
      "{'_id': ObjectId('5fcde69b837c1ec7786da5f0'), 'auther': 'Dave Lee', 'publisher': 'fun-coding', 'number': 54}\n",
      "{'_id': ObjectId('5fcde69b837c1ec7786da5f1'), 'auther': 'Dave Lee', 'publisher': 'fun-coding', 'number': 55}\n",
      "{'_id': ObjectId('5fcde69b837c1ec7786da5f2'), 'auther': 'Dave Lee', 'publisher': 'fun-coding', 'number': 56}\n",
      "{'_id': ObjectId('5fcde69b837c1ec7786da5f3'), 'auther': 'Dave Lee', 'publisher': 'fun-coding', 'number': 57}\n",
      "{'_id': ObjectId('5fcde69b837c1ec7786da5f4'), 'auther': 'Dave Lee', 'publisher': 'fun-coding', 'number': 58}\n",
      "{'_id': ObjectId('5fcde69b837c1ec7786da5f5'), 'auther': 'Dave Lee', 'publisher': 'fun-coding', 'number': 59}\n",
      "{'_id': ObjectId('5fcde69b837c1ec7786da5f6'), 'auther': 'Dave Lee', 'publisher': 'fun-coding', 'number': 60}\n",
      "{'_id': ObjectId('5fcde69b837c1ec7786da5f7'), 'auther': 'Dave Lee', 'publisher': 'fun-coding', 'number': 61}\n",
      "{'_id': ObjectId('5fcde69b837c1ec7786da5f8'), 'auther': 'Dave Lee', 'publisher': 'fun-coding', 'number': 62}\n",
      "{'_id': ObjectId('5fcde69b837c1ec7786da5f9'), 'auther': 'Dave Lee', 'publisher': 'fun-coding', 'number': 63}\n",
      "{'_id': ObjectId('5fcde69b837c1ec7786da5fa'), 'auther': 'Dave Lee', 'publisher': 'fun-coding', 'number': 64}\n",
      "{'_id': ObjectId('5fcde69b837c1ec7786da5fb'), 'auther': 'Dave Lee', 'publisher': 'fun-coding', 'number': 65}\n",
      "{'_id': ObjectId('5fcde69b837c1ec7786da5fc'), 'auther': 'Dave Lee', 'publisher': 'fun-coding', 'number': 66}\n",
      "{'_id': ObjectId('5fcde69b837c1ec7786da5fd'), 'auther': 'Dave Lee', 'publisher': 'fun-coding', 'number': 67}\n",
      "{'_id': ObjectId('5fcde69b837c1ec7786da5fe'), 'auther': 'Dave Lee', 'publisher': 'fun-coding', 'number': 68}\n",
      "{'_id': ObjectId('5fcde69b837c1ec7786da5ff'), 'auther': 'Dave Lee', 'publisher': 'fun-coding', 'number': 69}\n",
      "{'_id': ObjectId('5fcde69b837c1ec7786da600'), 'auther': 'Dave Lee', 'publisher': 'fun-coding', 'number': 70}\n",
      "{'_id': ObjectId('5fcde69b837c1ec7786da601'), 'auther': 'Dave Lee', 'publisher': 'fun-coding', 'number': 71}\n",
      "{'_id': ObjectId('5fcde69b837c1ec7786da602'), 'auther': 'Dave Lee', 'publisher': 'fun-coding', 'number': 72}\n",
      "{'_id': ObjectId('5fcde69b837c1ec7786da603'), 'auther': 'Dave Lee', 'publisher': 'fun-coding', 'number': 73}\n",
      "{'_id': ObjectId('5fcde69b837c1ec7786da604'), 'auther': 'Dave Lee', 'publisher': 'fun-coding', 'number': 74}\n",
      "{'_id': ObjectId('5fcde69b837c1ec7786da605'), 'auther': 'Dave Lee', 'publisher': 'fun-coding', 'number': 75}\n",
      "{'_id': ObjectId('5fcde69b837c1ec7786da606'), 'auther': 'Dave Lee', 'publisher': 'fun-coding', 'number': 76}\n",
      "{'_id': ObjectId('5fcde69b837c1ec7786da607'), 'auther': 'Dave Lee', 'publisher': 'fun-coding', 'number': 77}\n",
      "{'_id': ObjectId('5fcde69b837c1ec7786da608'), 'auther': 'Dave Lee', 'publisher': 'fun-coding', 'number': 78}\n",
      "{'_id': ObjectId('5fcde69b837c1ec7786da609'), 'auther': 'Dave Lee', 'publisher': 'fun-coding', 'number': 79}\n",
      "{'_id': ObjectId('5fcde69b837c1ec7786da60a'), 'auther': 'Dave Lee', 'publisher': 'fun-coding', 'number': 80}\n",
      "{'_id': ObjectId('5fcde69b837c1ec7786da60b'), 'auther': 'Dave Lee', 'publisher': 'fun-coding', 'number': 81}\n",
      "{'_id': ObjectId('5fcde69b837c1ec7786da60c'), 'auther': 'Dave Lee', 'publisher': 'fun-coding', 'number': 82}\n",
      "{'_id': ObjectId('5fcde69b837c1ec7786da60d'), 'auther': 'Dave Lee', 'publisher': 'fun-coding', 'number': 83}\n",
      "{'_id': ObjectId('5fcde69b837c1ec7786da60e'), 'auther': 'Dave Lee', 'publisher': 'fun-coding', 'number': 84}\n",
      "{'_id': ObjectId('5fcde69b837c1ec7786da60f'), 'auther': 'Dave Lee', 'publisher': 'fun-coding', 'number': 85}\n",
      "{'_id': ObjectId('5fcde69b837c1ec7786da610'), 'auther': 'Dave Lee', 'publisher': 'fun-coding', 'number': 86}\n",
      "{'_id': ObjectId('5fcde69b837c1ec7786da611'), 'auther': 'Dave Lee', 'publisher': 'fun-coding', 'number': 87}\n",
      "{'_id': ObjectId('5fcde69b837c1ec7786da612'), 'auther': 'Dave Lee', 'publisher': 'fun-coding', 'number': 88}\n",
      "{'_id': ObjectId('5fcde69b837c1ec7786da613'), 'auther': 'Dave Lee', 'publisher': 'fun-coding', 'number': 89}\n",
      "{'_id': ObjectId('5fcde69b837c1ec7786da614'), 'auther': 'Dave Lee', 'publisher': 'fun-coding', 'number': 90}\n",
      "{'_id': ObjectId('5fcde69b837c1ec7786da615'), 'auther': 'Dave Lee', 'publisher': 'fun-coding', 'number': 91}\n",
      "{'_id': ObjectId('5fcde69b837c1ec7786da616'), 'auther': 'Dave Lee', 'publisher': 'fun-coding', 'number': 92}\n",
      "{'_id': ObjectId('5fcde69b837c1ec7786da617'), 'auther': 'Dave Lee', 'publisher': 'fun-coding', 'number': 93}\n",
      "{'_id': ObjectId('5fcde69b837c1ec7786da618'), 'auther': 'Dave Lee', 'publisher': 'fun-coding', 'number': 94}\n",
      "{'_id': ObjectId('5fcde69b837c1ec7786da619'), 'auther': 'Dave Lee', 'publisher': 'fun-coding', 'number': 95}\n",
      "{'_id': ObjectId('5fcde69b837c1ec7786da61a'), 'auther': 'Dave Lee', 'publisher': 'fun-coding', 'number': 96}\n",
      "{'_id': ObjectId('5fcde69b837c1ec7786da61b'), 'auther': 'Dave Lee', 'publisher': 'fun-coding', 'number': 97}\n",
      "{'_id': ObjectId('5fcde69b837c1ec7786da61c'), 'auther': 'Dave Lee', 'publisher': 'fun-coding', 'number': 98}\n",
      "{'_id': ObjectId('5fcde69b837c1ec7786da61d'), 'auther': 'Dave Lee', 'publisher': 'fun-coding', 'number': 99}\n"
     ]
    }
   ],
   "source": [
    "for i in it_book.find({}):\n",
    "    print(i)"
   ]
  },
  {
   "cell_type": "code",
   "execution_count": 124,
   "metadata": {},
   "outputs": [
    {
     "name": "stdout",
     "output_type": "stream",
     "text": [
      "{'_id': ObjectId('5fcde69b837c1ec7786da5ba'), 'auther': 'Dave Lee', 'publisher': 'fun-coding', 'number': 0, 'publicsher': 'specialmen'}\n",
      "{'_id': ObjectId('5fcde69b837c1ec7786da5bb'), 'auther': 'Dave Lee', 'publisher': 'fun-coding', 'number': 1, 'publicsher': 'specialmen'}\n",
      "{'_id': ObjectId('5fcde69b837c1ec7786da5bc'), 'auther': 'Dave Lee', 'publisher': 'fun-coding', 'number': 2, 'publicsher': 'specialmen'}\n",
      "{'_id': ObjectId('5fcde69b837c1ec7786da5bd'), 'auther': 'Dave Lee', 'publisher': 'fun-coding', 'number': 3, 'publicsher': 'specialmen'}\n",
      "{'_id': ObjectId('5fcde69b837c1ec7786da5be'), 'auther': 'Dave Lee', 'publisher': 'fun-coding', 'number': 4, 'publicsher': 'specialmen'}\n",
      "{'_id': ObjectId('5fcde69b837c1ec7786da5bf'), 'auther': 'Dave Lee', 'publisher': 'fun-coding', 'number': 5, 'publicsher': 'specialmen'}\n"
     ]
    }
   ],
   "source": [
    "for i in it_book.find({}):\n",
    "    print(i)"
   ]
  },
  {
   "cell_type": "code",
   "execution_count": 121,
   "metadata": {},
   "outputs": [
    {
     "data": {
      "text/plain": [
       "<pymongo.results.UpdateResult at 0xdc20588>"
      ]
     },
     "execution_count": 121,
     "metadata": {},
     "output_type": "execute_result"
    }
   ],
   "source": [
    "it_book.update_many({},{\"$set\":{\"publicsher\":\"specialmen\"}})"
   ]
  },
  {
   "cell_type": "code",
   "execution_count": 123,
   "metadata": {},
   "outputs": [
    {
     "data": {
      "text/plain": [
       "<pymongo.results.DeleteResult at 0xdb7cc48>"
      ]
     },
     "execution_count": 123,
     "metadata": {},
     "output_type": "execute_result"
    }
   ],
   "source": [
    "it_book.delete_many({\"number\":{\"$gte\":6}})"
   ]
  },
  {
   "cell_type": "code",
   "execution_count": null,
   "metadata": {},
   "outputs": [],
   "source": []
  },
  {
   "cell_type": "code",
   "execution_count": null,
   "metadata": {},
   "outputs": [],
   "source": []
  },
  {
   "cell_type": "code",
   "execution_count": null,
   "metadata": {},
   "outputs": [],
   "source": []
  },
  {
   "cell_type": "code",
   "execution_count": null,
   "metadata": {},
   "outputs": [],
   "source": []
  },
  {
   "cell_type": "code",
   "execution_count": null,
   "metadata": {},
   "outputs": [],
   "source": []
  }
 ],
 "metadata": {
  "kernelspec": {
   "display_name": "Python 3",
   "language": "python",
   "name": "python3"
  },
  "language_info": {
   "codemirror_mode": {
    "name": "ipython",
    "version": 3
   },
   "file_extension": ".py",
   "mimetype": "text/x-python",
   "name": "python",
   "nbconvert_exporter": "python",
   "pygments_lexer": "ipython3",
   "version": "3.7.7"
  }
 },
 "nbformat": 4,
 "nbformat_minor": 4
}
