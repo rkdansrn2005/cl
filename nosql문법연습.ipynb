{
 "cells": [
  {
   "cell_type": "code",
   "execution_count": 1,
   "metadata": {},
   "outputs": [],
   "source": [
    "import pymongo\n",
    "conn = pymongo.MongoClient()\n",
    "mongodb_cine21 = conn.cine21\n",
    "actor_collection = mongodb_cine21.actor_collection"
   ]
  },
  {
   "cell_type": "code",
   "execution_count": 8,
   "metadata": {
    "scrolled": true
   },
   "outputs": [
    {
     "name": "stdout",
     "output_type": "stream",
     "text": [
      "{'_id': ObjectId('5fd07fce515110a083eace59'), '배우이름': '박소이', '흥행지수': 3384, '출연영화': ['담보', '호텔 레이크'], '랭킹': '71', '직업': '배우', '생년월일': '2012-03-12', '성별': '여'}\n",
      "{'_id': ObjectId('5fd07fce515110a083eace4c'), '배우이름': '허율', '흥행지수': 4237, '출연영화': ['클로젯'], '랭킹': '58', '직업': '배우', '생년월일': '2009-06-26', '성별': '여'}\n",
      "{'_id': ObjectId('5fd07fce515110a083eace9d'), '배우이름': '김시아', '흥행지수': 1147, '출연영화': ['백두산', '클로젯', '우리집'], '랭킹': '139', '직업': '배우', '생년월일': '2008-05-06', '성별': '여'}\n",
      "{'_id': ObjectId('5fd07fce515110a083eace42'), '배우이름': '이지원', '흥행지수': 5093, '출연영화': ['히트맨', '개를 훔치는 완벽한 방법'], '랭킹': '48', '직업': '배우', '생년월일': '2006-08-30', '성별': '여'}\n",
      "{'_id': ObjectId('5fd07fce515110a083eace89'), '배우이름': '갈소원', '흥행지수': 1440, '출연영화': ['미스터 주: 사라진 VIP', '7번방의 선물'], '랭킹': '119', '직업': '배우', '생년월일': '2006-08-14', '성별': '여'}\n",
      "{'_id': ObjectId('5fd07fce515110a083eace23'), '배우이름': '이레', '흥행지수': 12312, '출연영화': ['반도', '너의 이름은.', '증인', '개를 훔치는 완벽한 방법', '소원'], '랭킹': '17', '직업': '배우', '생년월일': '2006-03-12', '성별': '여', '홈페이지': 'https://www.facebook.com/leere.vv/'}\n",
      "{'_id': ObjectId('5fd07fce515110a083eace86'), '배우이름': '김수안', '흥행지수': 1560, '출연영화': ['감쪽같은 그녀', '제보자'], '랭킹': '116', '직업': '배우', '생년월일': '2006-01-27', '성별': '여'}\n",
      "{'_id': ObjectId('5fd07fce515110a083eace29'), '배우이름': '최성은', '흥행지수': 8891, '출연영화': ['시동'], '랭킹': '23', '직업': '배우', '생년월일': '1996-06-17', '성별': '여'}\n",
      "{'_id': ObjectId('5fd07fce515110a083eace73'), '배우이름': '홍경', '흥행지수': 2142, '출연영화': ['결백'], '랭킹': '97', '직업': '배우', '생년월일': '1996-02-14', '성별': '남', '홈페이지': 'http://www.vlive.tv/channels/D1A5B1'}\n",
      "{'_id': ObjectId('5fd07fce515110a083eace56'), '배우이름': '박혜수', '흥행지수': 3420, '출연영화': ['삼진그룹 영어토익반'], '랭킹': '68', '직업': '배우', '생년월일': '1994-11-24', '성별': '여', '홈페이지': 'https://www.instagram.com/hyesu_parkk/'}\n"
     ]
    }
   ],
   "source": [
    "docs = actor_collection.find({}).sort(\"생년월일\",pymongo.DESCENDING).limit(10)\n",
    "for doc in docs:\n",
    "    print(doc)"
   ]
  },
  {
   "cell_type": "code",
   "execution_count": 16,
   "metadata": {
    "scrolled": true
   },
   "outputs": [
    {
     "name": "stdout",
     "output_type": "stream",
     "text": [
      "{'배우이름': '황정민'}\n",
      "{'배우이름': '허준호'}\n",
      "{'배우이름': '한석규'}\n",
      "{'배우이름': '하지원'}\n",
      "{'배우이름': '조진웅'}\n",
      "{'배우이름': '정준호'}\n",
      "{'배우이름': '전혜진'}\n",
      "{'배우이름': '전도연'}\n",
      "{'배우이름': '이제훈'}\n",
      "{'배우이름': '이정현'}\n",
      "{'배우이름': '이상윤'}\n",
      "{'배우이름': '이병헌'}\n",
      "{'배우이름': '유아인'}\n",
      "{'배우이름': '엄정화'}\n",
      "{'배우이름': '배종옥'}\n",
      "{'배우이름': '박신혜'}\n",
      "{'배우이름': '류수영'}\n",
      "{'배우이름': '김혜수'}\n",
      "{'배우이름': '김태우'}\n",
      "{'배우이름': '김성오'}\n",
      "{'배우이름': '권상우'}\n",
      "{'배우이름': '강소라'}\n",
      "{'배우이름': '강동원'}\n"
     ]
    }
   ],
   "source": [
    "docs = actor_collection.find({\"특기\":{\"$exists\":True},\"생년월일\":{\"$exists\":True}},{\"배우이름\":1,'_id':0}).sort(\"배우이름\",pymongo.DESCENDING)\n",
    "for doc in docs:\n",
    "    print(doc)"
   ]
  },
  {
   "cell_type": "code",
   "execution_count": 24,
   "metadata": {},
   "outputs": [
    {
     "name": "stdout",
     "output_type": "stream",
     "text": [
      "{'배우이름': '강동원', '출연영화': ['반도', '1987']}\n",
      "{'배우이름': '이정현', '출연영화': ['죽지않는 인간들의 밤', '두번할까요', '반도', '명량']}\n",
      "{'배우이름': '이레', '출연영화': ['반도', '너의 이름은.', '증인', '개를 훔치는 완벽한 방법', '소원']}\n",
      "{'배우이름': '권해효', '출연영화': ['도망친 여자', '메기', '후쿠오카', '나의 특별한 형제', '반도', '사이비']}\n"
     ]
    }
   ],
   "source": [
    "docs = actor_collection.find({\"흥행지수\":{\"$gte\":10000},\"출연영화\":\"반도\"},{\"배우이름\":1,\"출연영화\":1,'_id':0})\n",
    "for doc in docs:\n",
    "    print(doc)"
   ]
  },
  {
   "cell_type": "code",
   "execution_count": 30,
   "metadata": {
    "scrolled": true
   },
   "outputs": [
    {
     "name": "stdout",
     "output_type": "stream",
     "text": [
      "{'배우이름': '이병헌', '출연영화': ['백두산', '남산의 부장들', '그것만이 내 세상', '공동경비구역 JSA', '내부자들', '광해, 왕이 된 남자']}\n",
      "{'배우이름': '하정우', '출연영화': ['백두산', '클로젯', '멋진 하루', '아가씨', '범죄와의 전쟁 : 나쁜 놈들 전성시대', '암살']}\n",
      "{'배우이름': '황정민', '출연영화': ['다만 악에서 구하소서', '신세계', '부당거래', '국제시장', '아수라']}\n",
      "{'배우이름': '이정재', '출연영화': ['다만 악에서 구하소서', '신세계', '인천상륙작전', '사바하', '도둑들', '암살']}\n",
      "{'배우이름': '박정민', '출연영화': ['시동', '다만 악에서 구하소서', '사냥의 시간', '동주', '그것만이 내 세상', '들개']}\n",
      "{'배우이름': '전혜진', '출연영화': ['백두산', '불한당: 나쁜 놈들의 세상', '뺑반', '사도']}\n",
      "{'배우이름': '이성민', '출연영화': ['남산의 부장들', '미스터 주: 사라진 VIP', '부당거래', '밀양', '뺑반', '변호인']}\n",
      "{'배우이름': '유아인', '출연영화': ['#살아있다', '소리도 없이', '버닝', '사도', '우아한 거짓말']}\n",
      "{'배우이름': '곽도원', '출연영화': ['남산의 부장들', '강철비2: 정상회담', '국제수사', '무뢰한', '변호인', '강철비']}\n",
      "{'배우이름': '배수지', '출연영화': ['백두산', '건축학개론']}\n",
      "{'배우이름': '강동원', '출연영화': ['반도', '1987']}\n",
      "{'배우이름': '이정현', '출연영화': ['죽지않는 인간들의 밤', '두번할까요', '반도', '명량']}\n",
      "{'배우이름': '이희준', '출연영화': ['남산의 부장들', '오! 문희', '환상속의 그대', '미성년', '미쓰백', '1987']}\n",
      "{'배우이름': '염정아', '출연영화': ['시동', '강철비2: 정상회담', '미성년', '뺑반', '오래된 정원']}\n",
      "{'배우이름': '성동일', '출연영화': ['담보', '두번할까요', '수상한 그녀', '우아한 거짓말']}\n",
      "{'배우이름': '정해인', '출연영화': ['시동', '피원에이치: 새로운 세계의 시작', '장수상회']}\n",
      "{'배우이름': '이레', '출연영화': ['반도', '너의 이름은.', '증인', '개를 훔치는 완벽한 방법', '소원']}\n",
      "{'배우이름': '이제훈', '출연영화': ['도굴', '사냥의 시간', '건축학개론', '아이 캔 스피크', '파수꾼', '박열']}\n",
      "{'배우이름': '박신혜', '출연영화': ['#살아있다', '7번방의 선물', '뷰티 인사이드', '시라노; 연애조작단']}\n",
      "{'배우이름': '권해효', '출연영화': ['도망친 여자', '메기', '후쿠오카', '나의 특별한 형제', '반도', '사이비']}\n",
      "{'배우이름': '김종수', '출연영화': ['시동', '삼진그룹 영어토익반', '나를 찾아줘', '밀양', '어제 일은 모두 괜찮아', '증인']}\n",
      "{'배우이름': '김소진', '출연영화': ['남산의 부장들', '미성년', '아이 캔 스피크', '더 킹']}\n",
      "{'배우이름': '김민재', '출연영화': ['무뢰한', '반도', '비밀은 없다', '국제시장', '더 킹', '뷰티 인사이드']}\n",
      "{'배우이름': '정우성', '출연영화': ['강철비2: 정상회담', '비트', '지푸라기라도 잡고 싶은 짐승들', '호우시절', '증인', '더 킹']}\n",
      "{'배우이름': '배성우', '출연영화': ['지푸라기라도 잡고 싶은 짐승들', '집으로 가는 길', '더 킹', '내부자들', '나의 사랑 나의 신부']}\n"
     ]
    }
   ],
   "source": [
    "#or\n",
    "docs = actor_collection.find({\"$or\":[{\"흥행지수\":{\"$gte\":10000}},{\"출연영화\":\"더 킹\"}]},{\"배우이름\":1,\"출연영화\":1,'_id':0})\n",
    "for doc in docs:\n",
    "    print(doc)"
   ]
  },
  {
   "cell_type": "code",
   "execution_count": 18,
   "metadata": {},
   "outputs": [
    {
     "name": "stdout",
     "output_type": "stream",
     "text": [
      "{'배우이름': '김희원', '흥행지수': 8245}\n",
      "{'배우이름': '김홍파', '흥행지수': 4096}\n",
      "{'배우이름': '김태우', '흥행지수': 3275}\n",
      "{'배우이름': '김채하', '흥행지수': 2494}\n",
      "{'배우이름': '김원해', '흥행지수': 5351}\n",
      "{'배우이름': '김용림', '흥행지수': 2755}\n",
      "{'배우이름': '김영은', '흥행지수': 3325}\n",
      "{'배우이름': '김소진', '흥행지수': 6761}\n",
      "{'배우이름': '김성오', '흥행지수': 3961}\n",
      "{'배우이름': '김민재', '흥행지수': 6129}\n",
      "{'배우이름': '김무열', '흥행지수': 8561}\n",
      "{'배우이름': '김명곤', '흥행지수': 2161}\n",
      "{'배우이름': '김도윤', '흥행지수': 4097}\n",
      "{'배우이름': '김남길', '흥행지수': 8463}\n",
      "{'배우이름': '김경덕', '흥행지수': 3556}\n"
     ]
    }
   ],
   "source": [
    "docs = actor_collection.find({\n",
    "    \"배우이름\":{\"$regex\":\"김\"},\\\n",
    "    \"$nor\":[{\"흥행지수\":{\"$gte\":10000}},{\"흥행지수\":{\"$lte\":2000}}]\\\n",
    "       },{\"_id\":0,\"배우이름\":1,\"흥행지수\":1}).sort(\"배우이름\",pymongo.DESCENDING)\n",
    "for a in docs:\n",
    "    print(a)"
   ]
  },
  {
   "cell_type": "code",
   "execution_count": 20,
   "metadata": {},
   "outputs": [
    {
     "name": "stdout",
     "output_type": "stream",
     "text": [
      "{'배우이름': '황정민'}\n",
      "{'배우이름': '황우슬혜'}\n",
      "{'배우이름': '홍경'}\n",
      "{'배우이름': '허준호'}\n",
      "{'배우이름': '허율'}\n"
     ]
    }
   ],
   "source": [
    "docs = actor_collection.find({\n",
    "    \"흥행지수\":{\"$nin\":[8245,4096]}},{\"_id\":0,\"배우이름\":1}).sort(\"배우이름\",pymongo.DESCENDING).limit(5)\n",
    "for a in docs:\n",
    "    print(a)"
   ]
  },
  {
   "cell_type": "code",
   "execution_count": 27,
   "metadata": {},
   "outputs": [
    {
     "name": "stdout",
     "output_type": "stream",
     "text": [
      "{'_id': ObjectId('5fd07fce515110a083eace15'), '배우이름': '황정민', '흥행지수': 43701, '출연영화': ['다만 악에서 구하소서', '신세계', '부당거래', '국제시장', '아수라'], '랭킹': '3', '직업': '배우', '생년월일': '1970-09-01', '성별': '남', '신장/체중': '180cm, 75kg', '학교': '서울예술대학 연극과 졸업', '특기': '농구, 악기연주', '소속사': '예당엔터테인먼트'}\n",
      "{'_id': ObjectId('5fd07fce515110a083eace16'), '배우이름': '이정재', '흥행지수': 29134, '출연영화': ['다만 악에서 구하소서', '신세계', '인천상륙작전', '사바하', '도둑들', '암살'], '랭킹': '4', '직업': '배우', '성별': '남', '홈페이지': 'http://www.artistcompany.co.kr/portfolio-item/lee-jung-jae/', '소속사': '아티스트컴퍼니'}\n",
      "{'_id': ObjectId('5fd07fce515110a083eace38'), '배우이름': '박성웅', '흥행지수': 6575, '출연영화': ['오케이 마담', '신세계', '무뢰한', '내안의 그놈', '인천상륙작전', '하이힐'], '랭킹': '38', '직업': '배우', '생년월일': '1973-01-09', '성별': '남', '홈페이지': 'https://www.facebook.com/cjessungwoong', '신장/체중': '187cm, 79kg', '학교': '한국외국어대학교 법학'}\n",
      "{'_id': ObjectId('5fd07fce515110a083eace40'), '배우이름': '최민식', '흥행지수': 5329, '출연영화': ['천문: 하늘에 묻는다', '신세계', '해피엔드', '올드보이', '친절한 금자씨', '명량'], '랭킹': '46', '다른 이름': '崔岷植', '직업': '배우', '생년월일': '1962-04-27', '성별': '남', '홈페이지': 'https://www.facebook.com/cjesminsik', '신장/체중': '177cm, 70kg', '학교': '동국대학교 연극영화', '취미': '공연 관람, 수집, 그림그리기, 골프'}\n",
      "{'_id': ObjectId('5fd07fce515110a083eace4e'), '배우이름': '김홍파', '흥행지수': 4096, '출연영화': ['천문: 하늘에 묻는다', '신세계', '배심원들', '내부자들'], '랭킹': '60', '직업': '배우', '생년월일': '1962-01-05', '성별': '남'}\n",
      "{'_id': ObjectId('5fd07fce515110a083eace5a'), '배우이름': '이경영', '흥행지수': 3346, '출연영화': ['백두산', '블랙머니', '신세계', '불한당: 나쁜 놈들의 세상', '부러진 화살', '내부자들'], '랭킹': '72', '직업': '배우', '생년월일': '1960-12-12', '성별': '남', '신장/체중': '173cm, 64kg', '학교': '한양대학교 연극영화학 학사'}\n",
      "{'_id': ObjectId('5fd07fce515110a083eace60'), '배우이름': '송지효', '흥행지수': 3207, '출연영화': ['신세계', '침입자'], '랭킹': '78', '직업': '배우', '생년월일': '1981-08-15', '성별': '여', '홈페이지': 'https://www.instagram.com/my_songjihyo/https://www.facebook.com/MYOFFICIALSONGJIHYO', '신장/체중': '168cm, 46kg', '학교': '경문대 세무회계학과'}\n",
      "{'_id': ObjectId('5fd07fce515110a083eace77'), '배우이름': '장광', '흥행지수': 2008, '출연영화': ['강철비2: 정상회담', '가나의 혼인잔치: 언약', '매지컬 : 공주를 웃겨라', '신세계', '메밀꽃, 운수 좋은 날, 그리고 봄봄', '광해, 왕이 된 남자'], '랭킹': '101', '직업': '배우', '생년월일': '1952-01-05', '성별': '남'}\n"
     ]
    }
   ],
   "source": [
    "docs = actor_collection.find({\"출연영화\":{\"$all\":[\"신세계\"]}})\n",
    "for a in docs:\n",
    "    print(a)"
   ]
  },
  {
   "cell_type": "code",
   "execution_count": 30,
   "metadata": {},
   "outputs": [
    {
     "name": "stdout",
     "output_type": "stream",
     "text": [
      "{'_id': ObjectId('5fd07fce515110a083eace17'), '배우이름': '박정민', '흥행지수': 28797, '출연영화': ['시동', '다만 악에서 구하소서', '사냥의 시간', '동주', '그것만이 내 세상', '들개'], '랭킹': '5', '직업': '배우', '생년월일': '1987-02-25', '성별': '남', '신장/체중': '178cm, 63kg', '학교': '한국예술종합학교 영상원 연극원 연기과'}\n"
     ]
    }
   ],
   "source": [
    "docs = actor_collection.find({\"출연영화.1\":\"다만 악에서 구하소서\"})\n",
    "for a in docs:\n",
    "    print(a)"
   ]
  },
  {
   "cell_type": "code",
   "execution_count": 60,
   "metadata": {
    "scrolled": true
   },
   "outputs": [
    {
     "name": "stdout",
     "output_type": "stream",
     "text": [
      "{'출연영화': ['백두산', '건축학개론']}\n",
      "{'출연영화': ['반도', '1987']}\n",
      "{'출연영화': ['담보', '동감']}\n",
      "{'출연영화': ['시동']}\n",
      "{'출연영화': ['도굴', '결백']}\n"
     ]
    }
   ],
   "source": [
    "# list size로 검색하기\n",
    "docs = actor_collection.find({\"$where\":\"this.출연영화.length<3\"},{'_id':0,'출연영화':1}).limit(5)\n",
    "for a in docs:\n",
    "    print(a)"
   ]
  },
  {
   "cell_type": "code",
   "execution_count": 65,
   "metadata": {},
   "outputs": [],
   "source": [
    "# elemMatch\n",
    "# 한개 이상의 리스트 요소가 복수개의 조건을 동시에 만족하는 경우\n",
    "import pymongo\n",
    "conn = pymongo.MongoClient()\n",
    "mongodb_cine21 = conn.cine21\n",
    "elemmatch_sample = mongodb_cine21.sample"
   ]
  },
  {
   "cell_type": "code",
   "execution_count": 66,
   "metadata": {},
   "outputs": [
    {
     "data": {
      "text/plain": [
       "<pymongo.results.InsertManyResult at 0x9671dc8>"
      ]
     },
     "execution_count": 66,
     "metadata": {},
     "output_type": "execute_result"
    }
   ],
   "source": [
    "elemmatch_sample.insert_many([\n",
    "    {'results':[82,85,88]},\n",
    "    {'results':[75,88,91]}\n",
    "])"
   ]
  },
  {
   "cell_type": "code",
   "execution_count": 67,
   "metadata": {},
   "outputs": [
    {
     "name": "stdout",
     "output_type": "stream",
     "text": [
      "{'_id': ObjectId('5fd1999a405de8e87697a142'), 'results': [75, 88, 91]}\n"
     ]
    }
   ],
   "source": [
    "# 리스트의 경우 하나라도 만족해버리면 출록되버림\n",
    "docs = elemmatch_sample.find({\"results\":{\"$gt\":90,\"$lt\":80}})\n",
    "for doc in docs:\n",
    "    print(doc)"
   ]
  },
  {
   "cell_type": "code",
   "execution_count": 73,
   "metadata": {},
   "outputs": [],
   "source": [
    "# list 전부다 만족해야한다.\n",
    "docs = elemmatch_sample.find({\"results\":{\"$elemMatch\":{\"$gt\":90,\"$lt\":80}}})\n",
    "for doc in docs:\n",
    "    print(doc)"
   ]
  },
  {
   "cell_type": "code",
   "execution_count": 74,
   "metadata": {},
   "outputs": [
    {
     "name": "stdout",
     "output_type": "stream",
     "text": [
      "{'_id': ObjectId('5fd07fce515110a083eace1c'), '배우이름': '배수지', '흥행지수': 20163, '출연영화': ['백두산', '건축학개론'], '랭킹': '10', '다른 이름': '배수지;미쓰에이;', '직업': '가수', '생년월일': '1994-10-10', '성별': '여', '홈페이지': 'https://twitter.com/missa_suzyhttps://www.instagram.com/skuukzky/', '신장/체중': '166cm, 47kg', '학교': '서울 공연예술고등학교', '소속사': 'JYP엔터테인먼트'}\n",
      "{'_id': ObjectId('5fd07fce515110a083eace7b'), '배우이름': '김호중', '흥행지수': 1865, '출연영화': ['그대, 고맙소 : 김호중 생애 첫 팬미팅 무비'], '랭킹': '105', '직업': '가수', '생년월일': '1991-10-02', '성별': '남', '홈페이지': 'https://www.instagram.com/hojoongng/'}\n"
     ]
    }
   ],
   "source": [
    "docs = actor_collection.find({\"직업\":\"가수\"}).sort(\"흥행지수\",pymongo.DESCENDING).limit(10)\n",
    "for doc in docs:\n",
    "    print(doc)"
   ]
  },
  {
   "cell_type": "code",
   "execution_count": 90,
   "metadata": {
    "scrolled": true
   },
   "outputs": [
    {
     "name": "stdout",
     "output_type": "stream",
     "text": [
      "{'_id': ObjectId('5fd07fce515110a083eace13'), '배우이름': '이병헌', '흥행지수': 72950, '출연영화': ['백두산', '남산의 부장들', '그것만이 내 세상', '공동경비구역 JSA', '내부자들', '광해, 왕이 된 남자'], '랭킹': '1', '다른 이름': 'Byung-hun Lee;BH Lee', '직업': '배우', '생년월일': '1970-07-12', '성별': '남', '홈페이지': 'http://www.leebyunghun.kr/', '신장/체중': '177cm, 72kg', '학교': '한양대학교 불어문학과', '취미': '모자수집, 여행', '특기': '태권도, 스노우보드, 수영, 팔씨름'}\n",
      "{'_id': ObjectId('5fd07fce515110a083eace14'), '배우이름': '하정우', '흥행지수': 49623, '출연영화': ['백두산', '클로젯', '멋진 하루', '아가씨', '범죄와의 전쟁 : 나쁜 놈들 전성시대', '암살'], '랭킹': '2', '다른 이름': '김성훈; 河正宇', '직업': '배우', '생년월일': '1978-03-11', '성별': '남', '홈페이지': 'https://www.facebook.com/ft.hajungwoo', '신장/체중': '184cm, 75kg', '학교': '중앙대학교 연극학 학사', '취미': '피아노, 검도, 수영'}\n",
      "{'_id': ObjectId('5fd07fce515110a083eace18'), '배우이름': '전혜진', '흥행지수': 28561, '출연영화': ['백두산', '불한당: 나쁜 놈들의 세상', '뺑반', '사도'], '랭킹': '6', '다른 이름': '전이다', '직업': '배우', '생년월일': '1976-08-10', '성별': '여', '신장/체중': '171cm, 49kg', '학교': '상명대학교 영화과', '취미': '영화감상, 노래 부르기', '특기': '수영', '소속사': '호두엔터테인먼트'}\n",
      "{'_id': ObjectId('5fd07fce515110a083eace1c'), '배우이름': '배수지', '흥행지수': 20163, '출연영화': ['백두산', '건축학개론'], '랭킹': '10', '다른 이름': '배수지;미쓰에이;', '직업': '가수', '생년월일': '1994-10-10', '성별': '여', '홈페이지': 'https://twitter.com/missa_suzyhttps://www.instagram.com/skuukzky/', '신장/체중': '166cm, 47kg', '학교': '서울 공연예술고등학교', '소속사': 'JYP엔터테인먼트'}\n",
      "{'_id': ObjectId('5fd07fce515110a083eace4b'), '배우이름': '조한철', '흥행지수': 4272, '출연영화': ['백두산', '블랙머니', '정직한 후보', '로망', '힘을 내요, 미스터 리', '배심원들'], '랭킹': '57', '직업': '배우', '생년월일': '1973-05-13', '성별': '남'}\n",
      "{'_id': ObjectId('5fd07fce515110a083eace51'), '배우이름': '이상원', '흥행지수': 3758, '출연영화': ['백두산'], '랭킹': '63', '직업': '배우', '생년월일': '1982-07-31', '성별': '남'}\n",
      "{'_id': ObjectId('5fd07fce515110a083eace58'), '배우이름': '옥자연', '흥행지수': 3390, '출연영화': ['백두산', '속물들'], '랭킹': '70', '직업': '배우', '성별': '여'}\n",
      "{'_id': ObjectId('5fd07fce515110a083eace5a'), '배우이름': '이경영', '흥행지수': 3346, '출연영화': ['백두산', '블랙머니', '신세계', '불한당: 나쁜 놈들의 세상', '부러진 화살', '내부자들'], '랭킹': '72', '직업': '배우', '생년월일': '1960-12-12', '성별': '남', '신장/체중': '173cm, 64kg', '학교': '한양대학교 연극영화학 학사'}\n",
      "{'_id': ObjectId('5fd07fce515110a083eace63'), '배우이름': '한수현', '흥행지수': 3006, '출연영화': ['백두산'], '랭킹': '81', '다른 이름': '한성천', '직업': '배우', '생년월일': '1977-00-00', '성별': '남'}\n",
      "{'_id': ObjectId('5fd07fce515110a083eace6a'), '배우이름': '강신철', '흥행지수': 2632, '출연영화': ['백두산', '삼촌', '거인'], '랭킹': '88', '직업': '배우', '생년월일': '1978-09-02', '성별': '남'}\n"
     ]
    }
   ],
   "source": [
    "docs = actor_collection.find({\"출연영화\":{\"$in\":[\"백두산\"]}}).sort(\"흥행지수\",pymongo.DESCENDING).limit(10)\n",
    "for doc in docs:\n",
    "    print(doc)"
   ]
  },
  {
   "cell_type": "code",
   "execution_count": 86,
   "metadata": {},
   "outputs": [
    {
     "data": {
      "text/plain": [
       "<bound method Cursor.count of <pymongo.cursor.Cursor object at 0x0000000009978A08>>"
      ]
     },
     "execution_count": 86,
     "metadata": {},
     "output_type": "execute_result"
    }
   ],
   "source": [
    "docs"
   ]
  },
  {
   "cell_type": "markdown",
   "metadata": {},
   "source": [
    "### mongodb 인덱스 index\n",
    "- 검색을 더 빠르게 수행하고자 만든 추가적인 data structure\n",
    "- index 데이터 구조가 없다면 , 컬렉션에 잇는 데이터를 하나씩 조회하는 방식으로 검색이 된다.\n",
    "- _id필드를 기반으로 긴본 인덱스가 생성된다."
   ]
  },
  {
   "cell_type": "code",
   "execution_count": null,
   "metadata": {},
   "outputs": [],
   "source": [
    "# single 인덱스"
   ]
  },
  {
   "cell_type": "code",
   "execution_count": 1,
   "metadata": {},
   "outputs": [],
   "source": [
    "import pymongo\n",
    "conn = pymongo.MongoClient()\n",
    "mongodb_cine21 = conn.cine21\n",
    "actor_collection = mongodb_cine21.actor_collection"
   ]
  },
  {
   "cell_type": "code",
   "execution_count": 111,
   "metadata": {},
   "outputs": [
    {
     "data": {
      "text/plain": [
       "'배우이름_1'"
      ]
     },
     "execution_count": 111,
     "metadata": {},
     "output_type": "execute_result"
    }
   ],
   "source": [
    "actor_collection.create_index('배우이름')"
   ]
  },
  {
   "cell_type": "code",
   "execution_count": 96,
   "metadata": {},
   "outputs": [
    {
     "data": {
      "text/plain": [
       "{'_id_': {'v': 2, 'key': [('_id', 1)], 'ns': 'cine21.actor_collection'}}"
      ]
     },
     "execution_count": 96,
     "metadata": {},
     "output_type": "execute_result"
    }
   ],
   "source": [
    "actor_collection.index_information() _id_는 # default 인덱스이다."
   ]
  },
  {
   "cell_type": "markdown",
   "metadata": {},
   "source": [
    "- key : {'필드명',direction}\n",
    "  - direction\n",
    "    - pymongo.Ascending =1\n",
    "    - pymongo.DESCENDING\n",
    "    - pymongo.TEXT = 'text'\n",
    "    ##### 인덱스 순서를 정의한다."
   ]
  },
  {
   "cell_type": "code",
   "execution_count": 109,
   "metadata": {},
   "outputs": [],
   "source": [
    "# 전체 인덱스 삭제\n",
    "actor_collection.drop_indexes()"
   ]
  },
  {
   "cell_type": "code",
   "execution_count": 108,
   "metadata": {},
   "outputs": [],
   "source": [
    "# 특정 인덱스 삭제\n",
    "actor_collection.drop_index([(\"배우이름\",1)])"
   ]
  },
  {
   "cell_type": "code",
   "execution_count": 110,
   "metadata": {},
   "outputs": [
    {
     "data": {
      "text/plain": [
       "'랭킹_1'"
      ]
     },
     "execution_count": 110,
     "metadata": {},
     "output_type": "execute_result"
    }
   ],
   "source": [
    "actor_collection.create_index('랭킹')"
   ]
  },
  {
   "cell_type": "code",
   "execution_count": 112,
   "metadata": {},
   "outputs": [
    {
     "data": {
      "text/plain": [
       "'흥행지수_1'"
      ]
     },
     "execution_count": 112,
     "metadata": {},
     "output_type": "execute_result"
    }
   ],
   "source": [
    "actor_collection.create_index('흥행지수')\n",
    "# actor_collection.drop_index([(\"흥행지수\",1)])"
   ]
  },
  {
   "cell_type": "code",
   "execution_count": 114,
   "metadata": {},
   "outputs": [
    {
     "data": {
      "text/plain": [
       "'직업_-1'"
      ]
     },
     "execution_count": 114,
     "metadata": {},
     "output_type": "execute_result"
    }
   ],
   "source": [
    "actor_collection.create_index([('직업',pymongo.DESCENDING)])"
   ]
  },
  {
   "cell_type": "code",
   "execution_count": 117,
   "metadata": {},
   "outputs": [
    {
     "data": {
      "text/plain": [
       "'출연영화_text'"
      ]
     },
     "execution_count": 117,
     "metadata": {},
     "output_type": "execute_result"
    }
   ],
   "source": [
    "actor_collection.create_index([('출연영화','text')])"
   ]
  },
  {
   "cell_type": "code",
   "execution_count": 16,
   "metadata": {
    "scrolled": false
   },
   "outputs": [
    {
     "data": {
      "text/plain": [
       "{'_id_': {'v': 2, 'key': [('_id', 1)], 'ns': 'cine21.actor_collection'},\n",
       " '랭킹_1': {'v': 2, 'key': [('랭킹', 1)], 'ns': 'cine21.actor_collection'},\n",
       " '배우이름_1': {'v': 2, 'key': [('배우이름', 1)], 'ns': 'cine21.actor_collection'},\n",
       " '흥행지수_1': {'v': 2, 'key': [('흥행지수', 1)], 'ns': 'cine21.actor_collection'},\n",
       " '출연영화_text': {'v': 2,\n",
       "  'key': [('_fts', 'text'), ('_ftsx', 1)],\n",
       "  'ns': 'cine21.actor_collection',\n",
       "  'weights': SON([('출연영화', 1)]),\n",
       "  'default_language': 'english',\n",
       "  'language_override': 'language',\n",
       "  'textIndexVersion': 3}}"
      ]
     },
     "execution_count": 16,
     "metadata": {},
     "output_type": "execute_result"
    }
   ],
   "source": [
    "# 인덱스 정보 확인\n",
    "actor_collection.index_information()"
   ]
  },
  {
   "cell_type": "code",
   "execution_count": 7,
   "metadata": {
    "scrolled": true
   },
   "outputs": [
    {
     "name": "stdout",
     "output_type": "stream",
     "text": [
      "{'_id': ObjectId('5fd07fce515110a083eace82'), '배우이름': '박성훈', '흥행지수': 1638, '출연영화': ['천문: 하늘에 묻는다', '곤지암'], '랭킹': '112', '직업': '배우', '성별': '남', '홈페이지': 'http://cafe.daum.net/Parksunghoon'}\n",
      "{'_id': ObjectId('5fd07fce515110a083eace75'), '배우이름': '오광록', '흥행지수': 2049, '출연영화': ['천문: 하늘에 묻는다', '악몽', '올드보이', '친절한 금자씨', '수상한 이웃', '복수는 나의 것'], '랭킹': '99', '직업': '배우', '생년월일': '1962-08-28', '성별': '남', '신장/체중': '171cm, 60kg', '소속사': '싸이더스 HQ'}\n",
      "{'_id': ObjectId('5fd07fce515110a083eace5d'), '배우이름': '김태우', '흥행지수': 3275, '출연영화': ['천문: 하늘에 묻는다', '접속', '공동경비구역 JSA', '창궐'], '랭킹': '75', '직업': '배우', '생년월일': '1971-04-15', '성별': '남', '신장/체중': '183cm, 73kg', '학교': '중앙대학교 연극영화', '취미': '수영', '특기': '사물놀이'}\n",
      "{'_id': ObjectId('5fd07fce515110a083eace54'), '배우이름': '전여빈', '흥행지수': 3562, '출연영화': ['천문: 하늘에 묻는다', '해치지않아', '죄 많은 소녀', '여배우는 오늘도', '메리 크리스마스 미스터 모'], '랭킹': '66', '직업': '배우', '생년월일': '1989-00-00', '성별': '여'}\n",
      "{'_id': ObjectId('5fd07fce515110a083eace4e'), '배우이름': '김홍파', '흥행지수': 4096, '출연영화': ['천문: 하늘에 묻는다', '신세계', '배심원들', '내부자들'], '랭킹': '60', '직업': '배우', '생년월일': '1962-01-05', '성별': '남'}\n",
      "{'_id': ObjectId('5fd07fce515110a083eace4a'), '배우이름': '신구', '흥행지수': 4501, '출연영화': ['천문: 하늘에 묻는다', '해빙'], '랭킹': '56', '다른 이름': '신순기', '직업': '배우', '생년월일': '1936-08-13', '성별': '남', '학교': '성균관대학교 국문학 (중퇴)', '취미': '골프, 조깅'}\n",
      "{'_id': ObjectId('5fd07fce515110a083eace45'), '배우이름': '한석규', '흥행지수': 4911, '출연영화': ['천문: 하늘에 묻는다', '접속', '주홍글씨'], '랭킹': '51', '다른 이름': '韓石圭', '직업': '배우', '생년월일': '1964-11-03', '성별': '남', '신장/체중': '178cm, 64kg', '학교': '동국대학교 연극영화', '취미': '낚시, 골프', '특기': '노래부르기', '소속사': '케이엠컬쳐(주)'}\n",
      "{'_id': ObjectId('5fd07fce515110a083eace41'), '배우이름': '임원희', '흥행지수': 5311, '출연영화': ['천문: 하늘에 묻는다', '도굴', '재혼의 기술', '신과 함께-인과 연'], '랭킹': '47', '직업': '배우', '생년월일': '1970-10-11', '성별': '남', '신장/체중': '175cm, 68kg', '학교': '서울예술대학 연극', '소속사': '빌리지엔터테인먼트'}\n",
      "{'_id': ObjectId('5fd07fce515110a083eace40'), '배우이름': '최민식', '흥행지수': 5329, '출연영화': ['천문: 하늘에 묻는다', '신세계', '해피엔드', '올드보이', '친절한 금자씨', '명량'], '랭킹': '46', '다른 이름': '崔岷植', '직업': '배우', '생년월일': '1962-04-27', '성별': '남', '홈페이지': 'https://www.facebook.com/cjesminsik', '신장/체중': '177cm, 70kg', '학교': '동국대학교 연극영화', '취미': '공연 관람, 수집, 그림그리기, 골프'}\n",
      "{'_id': ObjectId('5fd07fce515110a083eace3f'), '배우이름': '김원해', '흥행지수': 5351, '출연영화': ['천문: 하늘에 묻는다', '삼진그룹 영어토익반', '아수라'], '랭킹': '45', '직업': '배우', '생년월일': '1969-04-06', '성별': '남'}\n",
      "{'_id': ObjectId('5fd07fce515110a083eace3a'), '배우이름': '허준호', '흥행지수': 6095, '출연영화': ['천문: 하늘에 묻는다', '퍼펙트맨', '결백'], '랭킹': '40', '원어명': '許俊豪', '직업': '배우', '생년월일': '1964-03-03', '성별': '남', '신장/체중': '180cm, 75kg', '학교': '서울예술대학 연극과', '취미': '만화책 보기', '특기': '야구, 농구', '소속사': '지티비엔터테인먼트'}\n"
     ]
    }
   ],
   "source": [
    "# 부분 문자열 검색 text 인덱스ㅣ있을 경우\n",
    "docs = actor_collection.find({\"$text\":{\"$search\":\"하늘에\"}})\n",
    "# 띄어쓰기 단위로 text 포함 검색 가능 \n",
    "for a in docs:\n",
    "    print(a)"
   ]
  },
  {
   "cell_type": "code",
   "execution_count": 18,
   "metadata": {
    "scrolled": true
   },
   "outputs": [
    {
     "data": {
      "text/plain": [
       "{'_id_': {'v': 2, 'key': [('_id', 1)], 'ns': 'cine21.actor_collection'},\n",
       " '랭킹_1': {'v': 2, 'key': [('랭킹', 1)], 'ns': 'cine21.actor_collection'},\n",
       " '배우이름_1': {'v': 2, 'key': [('배우이름', 1)], 'ns': 'cine21.actor_collection'},\n",
       " '흥행지수_1': {'v': 2, 'key': [('흥행지수', 1)], 'ns': 'cine21.actor_collection'},\n",
       " '출연영화_text': {'v': 2,\n",
       "  'key': [('_fts', 'text'), ('_ftsx', 1)],\n",
       "  'ns': 'cine21.actor_collection',\n",
       "  'weights': SON([('출연영화', 1)]),\n",
       "  'default_language': 'english',\n",
       "  'language_override': 'language',\n",
       "  'textIndexVersion': 3}}"
      ]
     },
     "execution_count": 18,
     "metadata": {},
     "output_type": "execute_result"
    }
   ],
   "source": [
    "# text index 는 하나만 만들수 있다.\n",
    "actor_collection.create_index([('직업','text')])\n",
    "actor_collection.index_information()"
   ]
  },
  {
   "cell_type": "code",
   "execution_count": 11,
   "metadata": {},
   "outputs": [],
   "source": [
    "docs = actor_collection.find({\"$text\":{\"$search\":\"배우\"}})\n",
    "# 띄어쓰기 단위로 text 포함 검색 가능 \n",
    "for a in docs:\n",
    "    print(a)"
   ]
  },
  {
   "cell_type": "code",
   "execution_count": null,
   "metadata": {},
   "outputs": [],
   "source": [
    "# compound 복합 필드 인덱스 \n",
    "# text를 여러개 넣기 위해서 \n",
    "# 최대 31개의 필드로 만들 수 있다."
   ]
  },
  {
   "cell_type": "code",
   "execution_count": 22,
   "metadata": {},
   "outputs": [],
   "source": [
    "actor_collection.drop_indexes()"
   ]
  },
  {
   "cell_type": "code",
   "execution_count": 23,
   "metadata": {},
   "outputs": [
    {
     "data": {
      "text/plain": [
       "'출연영화_text_직업_text_흥행지수_-1'"
      ]
     },
     "execution_count": 23,
     "metadata": {},
     "output_type": "execute_result"
    }
   ],
   "source": [
    "actor_collection.create_index([('출연영화','text'),('직업','text'),('흥행지수',-1)])"
   ]
  },
  {
   "cell_type": "code",
   "execution_count": 26,
   "metadata": {},
   "outputs": [
    {
     "name": "stdout",
     "output_type": "stream",
     "text": [
      "{'_id': ObjectId('5fd07fce515110a083eace7b'), '배우이름': '김호중', '흥행지수': 1865, '출연영화': ['그대, 고맙소 : 김호중 생애 첫 팬미팅 무비'], '랭킹': '105', '직업': '가수', '생년월일': '1991-10-02', '성별': '남', '홈페이지': 'https://www.instagram.com/hojoongng/'}\n",
      "{'_id': ObjectId('5fd07fce515110a083eace1c'), '배우이름': '배수지', '흥행지수': 20163, '출연영화': ['백두산', '건축학개론'], '랭킹': '10', '다른 이름': '배수지;미쓰에이;', '직업': '가수', '생년월일': '1994-10-10', '성별': '여', '홈페이지': 'https://twitter.com/missa_suzyhttps://www.instagram.com/skuukzky/', '신장/체중': '166cm, 47kg', '학교': '서울 공연예술고등학교', '소속사': 'JYP엔터테인먼트'}\n"
     ]
    }
   ],
   "source": [
    "docs = actor_collection.find({\"$text\":{\"$search\": \"가수\"}})\n",
    "for a in docs:\n",
    "    print(a)"
   ]
  },
  {
   "cell_type": "code",
   "execution_count": 29,
   "metadata": {},
   "outputs": [
    {
     "name": "stdout",
     "output_type": "stream",
     "text": [
      "{'_id': ObjectId('5fd07fce515110a083eace1c'), '배우이름': '배수지', '흥행지수': 20163, '출연영화': ['백두산', '건축학개론'], '랭킹': '10', '다른 이름': '배수지;미쓰에이;', '직업': '가수', '생년월일': '1994-10-10', '성별': '여', '홈페이지': 'https://twitter.com/missa_suzyhttps://www.instagram.com/skuukzky/', '신장/체중': '166cm, 47kg', '학교': '서울 공연예술고등학교', '소속사': 'JYP엔터테인먼트'}\n",
      "{'_id': ObjectId('5fd07fce515110a083eace24'), '배우이름': '이제훈', '흥행지수': 11436, '출연영화': ['도굴', '사냥의 시간', '건축학개론', '아이 캔 스피크', '파수꾼', '박열'], '랭킹': '18', '직업': '배우', '생년월일': '1984-07-04', '성별': '남', '홈페이지': 'https://www.facebook.com/saram.leejehoon', '신장/체중': '176cm', '학교': '한국예술종합학교 연극원 연기과', '특기': '댄스, 노래, 무술', '소속사': '㈜사람엔터테인먼트'}\n",
      "{'_id': ObjectId('5fd07fce515110a083eace53'), '배우이름': '조현철', '흥행지수': 3660, '출연영화': ['삼진그룹 영어토익반', '이웃사촌', '영화로운 나날', '건축학개론', '초행'], '랭킹': '65', '직업': '배우', '생년월일': '1986-12-24', '성별': '남', '학교': '한국예술종합학교 예술사'}\n",
      "{'_id': ObjectId('5fd07fce515110a083eace5f'), '배우이름': '유연석', '흥행지수': 3222, '출연영화': ['강철비2: 정상회담', '건축학개론', '제보자', '뷰티 인사이드'], '랭킹': '77', '다른 이름': '안연석', '직업': '배우', '생년월일': '1984-04-11', '성별': '남', '홈페이지': 'https://twitter.com/yeonseok411https://www.instagram.com/yoo_yeonseok/', '소속사': '이야기엔터테인먼트'}\n"
     ]
    }
   ],
   "source": [
    "result = actor_collection.find({\"출연영화\":{\"$regex\":\"건축\"}})\n",
    "for a in result:\n",
    "    print(a)"
   ]
  },
  {
   "cell_type": "code",
   "execution_count": 30,
   "metadata": {},
   "outputs": [],
   "source": [
    "import pymongo\n",
    "conn = pymongo.MongoClient()\n",
    "mongodb_cine21 = conn.cine21\n",
    "text_collection = mongodb_cine21.text_collection"
   ]
  },
  {
   "cell_type": "code",
   "execution_count": 31,
   "metadata": {},
   "outputs": [
    {
     "data": {
      "text/plain": [
       "<pymongo.results.InsertManyResult at 0x8f55cc8>"
      ]
     },
     "execution_count": 31,
     "metadata": {},
     "output_type": "execute_result"
    }
   ],
   "source": [
    "text_collection.insert_many([\n",
    "    { \"name\": \"Java Hut\", \"description\": \"Coffee and cakes\", \"ranking\": 1 },\n",
    "        { \"name\": \"Burger Buns\", \"description\": \"Java hamburgers\", \"ranking\": 2 },\n",
    "        { \"name\": \"Coffee Shop\", \"description\": \"Just coffee\", \"ranking\": 3 },\n",
    "        { \"name\": \"Clothes Clothes Clothes\", \"description\": \"Discount clothing\", \"ranking\": 4 },\n",
    "        { \"name\": \"Java Shopping\", \"description\": \"Indonesian goods\", \"ranking\": 5 }\n",
    "    \n",
    "])"
   ]
  },
  {
   "cell_type": "code",
   "execution_count": 33,
   "metadata": {
    "scrolled": true
   },
   "outputs": [
    {
     "name": "stdout",
     "output_type": "stream",
     "text": [
      "{'_id': ObjectId('5fd1ba9885d0044965ec0331'), 'name': 'Java Hut', 'description': 'Coffee and cakes', 'ranking': 1}\n",
      "{'_id': ObjectId('5fd1ba9885d0044965ec0332'), 'name': 'Burger Buns', 'description': 'Java hamburgers', 'ranking': 2}\n",
      "{'_id': ObjectId('5fd1ba9885d0044965ec0333'), 'name': 'Coffee Shop', 'description': 'Just coffee', 'ranking': 3}\n",
      "{'_id': ObjectId('5fd1ba9885d0044965ec0334'), 'name': 'Clothes Clothes Clothes', 'description': 'Discount clothing', 'ranking': 4}\n",
      "{'_id': ObjectId('5fd1ba9885d0044965ec0335'), 'name': 'Java Shopping', 'description': 'Indonesian goods', 'ranking': 5}\n"
     ]
    }
   ],
   "source": [
    "docs = text_collection.find({})\n",
    "for a in docs:\n",
    "    print(a)"
   ]
  },
  {
   "cell_type": "code",
   "execution_count": 36,
   "metadata": {},
   "outputs": [
    {
     "name": "stdout",
     "output_type": "stream",
     "text": [
      "{'_id': ObjectId('5fd1ba9885d0044965ec0333'), 'name': 'Coffee Shop', 'description': 'Just coffee', 'ranking': 3}\n"
     ]
    }
   ],
   "source": [
    "docs = text_collection.find({\"name\":{\"$regex\":'Co'}})\n",
    "for a in docs:\n",
    "    print(a)"
   ]
  },
  {
   "cell_type": "code",
   "execution_count": 37,
   "metadata": {},
   "outputs": [
    {
     "data": {
      "text/plain": [
       "'name_text'"
      ]
     },
     "execution_count": 37,
     "metadata": {},
     "output_type": "execute_result"
    }
   ],
   "source": [
    "text_collection.create_index([('name','text')])"
   ]
  },
  {
   "cell_type": "code",
   "execution_count": 38,
   "metadata": {},
   "outputs": [
    {
     "data": {
      "text/plain": [
       "{'_id_': {'v': 2, 'key': [('_id', 1)], 'ns': 'cine21.text_collection'},\n",
       " 'name_text': {'v': 2,\n",
       "  'key': [('_fts', 'text'), ('_ftsx', 1)],\n",
       "  'ns': 'cine21.text_collection',\n",
       "  'weights': SON([('name', 1)]),\n",
       "  'default_language': 'english',\n",
       "  'language_override': 'language',\n",
       "  'textIndexVersion': 3}}"
      ]
     },
     "execution_count": 38,
     "metadata": {},
     "output_type": "execute_result"
    }
   ],
   "source": [
    "text_collection.index_information()"
   ]
  },
  {
   "cell_type": "code",
   "execution_count": 39,
   "metadata": {},
   "outputs": [
    {
     "name": "stdout",
     "output_type": "stream",
     "text": [
      "{'_id': ObjectId('5fd1ba9885d0044965ec0335'), 'name': 'Java Shopping', 'description': 'Indonesian goods', 'ranking': 5}\n",
      "{'_id': ObjectId('5fd1ba9885d0044965ec0331'), 'name': 'Java Hut', 'description': 'Coffee and cakes', 'ranking': 1}\n",
      "{'_id': ObjectId('5fd1ba9885d0044965ec0333'), 'name': 'Coffee Shop', 'description': 'Just coffee', 'ranking': 3}\n"
     ]
    }
   ],
   "source": [
    "# 띄어쓰기는 개별로 취급한다.\n",
    "docs = text_collection.find({\"$text\":{\"$search\":'java coffe shop'}})\n",
    "for a in docs:\n",
    "    print(a)"
   ]
  },
  {
   "cell_type": "code",
   "execution_count": 41,
   "metadata": {},
   "outputs": [
    {
     "name": "stdout",
     "output_type": "stream",
     "text": [
      "{'_id': ObjectId('5fd1ba9885d0044965ec0335'), 'name': 'Java Shopping', 'description': 'Indonesian goods', 'ranking': 5}\n"
     ]
    }
   ],
   "source": [
    "docs = text_collection.find({\"$text\":{\"$search\":'/\"java shop\"/'}})\n",
    "# 내부는 무조건 쌍따음표로 하는게 좋다.\n",
    "for a in docs:\n",
    "    print(a)"
   ]
  },
  {
   "cell_type": "code",
   "execution_count": 44,
   "metadata": {},
   "outputs": [
    {
     "name": "stdout",
     "output_type": "stream",
     "text": [
      "{'_id': ObjectId('5fd1ba9885d0044965ec0333'), 'name': 'Coffee Shop', 'description': 'Just coffee', 'ranking': 3}\n"
     ]
    }
   ],
   "source": [
    "docs = text_collection.find({\"$text\":{\"$search\":'/\"Coffee Shop\"/','$caseSensitive':True}})\n",
    "# 소문자 대문자 구별을 위해서 '$caseSensitive':True 추가하기\n",
    "for a in docs:\n",
    "    print(a)"
   ]
  },
  {
   "cell_type": "code",
   "execution_count": 47,
   "metadata": {},
   "outputs": [
    {
     "name": "stdout",
     "output_type": "stream",
     "text": [
      "{'_id': ObjectId('5fd07fce515110a083eace14'), '배우이름': '하정우', '흥행지수': 49623, '출연영화': ['백두산', '클로젯', '멋진 하루', '아가씨', '범죄와의 전쟁 : 나쁜 놈들 전성시대', '암살'], '랭킹': '2', '다른 이름': '김성훈; 河正宇', '직업': '배우', '생년월일': '1978-03-11', '성별': '남', '홈페이지': 'https://www.facebook.com/ft.hajungwoo', '신장/체중': '184cm, 75kg', '학교': '중앙대학교 연극학 학사', '취미': '피아노, 검도, 수영'}\n",
      "{'_id': ObjectId('5fd07fce515110a083eace1e'), '배우이름': '이정현', '흥행지수': 14867, '출연영화': ['죽지않는 인간들의 밤', '두번할까요', '반도', '명량'], '랭킹': '12', '직업': '배우', '생년월일': '1980-02-07', '성별': '여', '홈페이지': 'https://www.instagram.com/mermaidleejh/https://twitter.com/mermaidjh', '신장/체중': '158cm, 38kg', '학교': '중앙대학교 연극영화', '취미': '바비 인형 수집, 피아노 연주', '특기': '별관찰, 시나리오 쓰기', '소속사': '에이바 앤 엔터테인먼트'}\n",
      "{'_id': ObjectId('5fd07fce515110a083eace25'), '배우이름': '박신혜', '흥행지수': 11342, '출연영화': ['#살아있다', '7번방의 선물', '뷰티 인사이드', '시라노; 연애조작단'], '랭킹': '19', '직업': '배우', '생년월일': '1990-02-18', '성별': '여', '홈페이지': 'https://twitter.com/ssinzhttps://www.instagram.com/ssinz7/', '신장/체중': '165cm, 45kg', '학교': '중앙대학교 연극영화학 (재학)', '취미': '음악감상', '특기': '댄스', '소속사': '아바 엔터테인먼트'}\n",
      "{'_id': ObjectId('5fd07fce515110a083eace5d'), '배우이름': '김태우', '흥행지수': 3275, '출연영화': ['천문: 하늘에 묻는다', '접속', '공동경비구역 JSA', '창궐'], '랭킹': '75', '직업': '배우', '생년월일': '1971-04-15', '성별': '남', '신장/체중': '183cm, 73kg', '학교': '중앙대학교 연극영화', '취미': '수영', '특기': '사물놀이'}\n",
      "{'_id': ObjectId('5fd07fce515110a083eace68'), '배우이름': '송영창', '흥행지수': 2736, '출연영화': ['정직한 후보', '스윈들러', '박쥐', '변호인', '해빙'], '랭킹': '86', '다른 이름': '宋永彰', '직업': '배우', '생년월일': '1958-04-02', '성별': '남', '학교': '중앙대학교대학원 연극영화학', '취미': '볼링, 비디오감상'}\n",
      "{'_id': ObjectId('5fd07fce515110a083eace69'), '배우이름': '배종옥', '흥행지수': 2677, '출연영화': ['결백', '환절기'], '랭킹': '87', '직업': '배우', '생년월일': '1964-05-13', '성별': '여', '신장/체중': '163cm, 45kg', '학교': '중앙대 연극영화 -  중앙대신문방송대학원', '특기': '수상 스키'}\n",
      "{'_id': ObjectId('5fd07fce515110a083eace83'), '배우이름': '박철민', '흥행지수': 1613, '출연영화': ['이웃사촌', '소리꾼', '나의 특별한 형제', '결백', '아이 캔 스피크', '인천상륙작전'], '랭킹': '113', '직업': '배우', '생년월일': '1967-00-00', '성별': '남', '학교': '중앙대학교 경영학 학사', '소속사': '씨에스엑터스'}\n"
     ]
    }
   ],
   "source": [
    "docs = actor_collection.find({\"직업\":\"배우\",\"학교\":{\"$exists\":True},\"학교\":{\"$regex\":\"중앙대\"}}).sort(\"흥행지수\",-1).limit(10)\n",
    "for a in docs:\n",
    "    print(a)"
   ]
  },
  {
   "cell_type": "code",
   "execution_count": 80,
   "metadata": {},
   "outputs": [
    {
     "name": "stdout",
     "output_type": "stream",
     "text": [
      "{'_id': {'ab': 1.0, 'ac': 1.0}, 'sum': 1.0}\n",
      "{'_id': {'ab': 2.0, 'ac': 2.0}, 'sum': 2.0}\n",
      "{'_id': {'ab': 3.0, 'ac': 3.0}, 'sum': 2.0}\n",
      "{'_id': {'ab': 3.0, 'ac': 5.0}, 'sum': 3.0}\n",
      "{'_id': {'ab': 1.0, 'ac': 2.0}, 'sum': 3.0}\n"
     ]
    }
   ],
   "source": [
    "docs = elemmatch_sample.aggregate([{\"$group\":{\"_id\":{\"ab\":\"$a\",\"ac\":\"$b\"},\n",
    "                                             \"sum\" :{\"$max\":\"$c\"}}},{\n",
    "    '$sort':{'sum':1}\n",
    "}])\n",
    "for a in docs:\n",
    "    print(a)"
   ]
  },
  {
   "cell_type": "code",
   "execution_count": null,
   "metadata": {},
   "outputs": [],
   "source": []
  },
  {
   "cell_type": "code",
   "execution_count": null,
   "metadata": {},
   "outputs": [],
   "source": []
  },
  {
   "cell_type": "code",
   "execution_count": null,
   "metadata": {},
   "outputs": [],
   "source": []
  }
 ],
 "metadata": {
  "kernelspec": {
   "display_name": "Python 3",
   "language": "python",
   "name": "python3"
  },
  "language_info": {
   "codemirror_mode": {
    "name": "ipython",
    "version": 3
   },
   "file_extension": ".py",
   "mimetype": "text/x-python",
   "name": "python",
   "nbconvert_exporter": "python",
   "pygments_lexer": "ipython3",
   "version": "3.7.7"
  }
 },
 "nbformat": 4,
 "nbformat_minor": 4
}
